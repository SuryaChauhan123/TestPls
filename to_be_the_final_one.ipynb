{
 "cells": [
  {
   "attachments": {},
   "cell_type": "markdown",
   "metadata": {},
   "source": [
    "## Converts speech to text\n",
    "You start giving commands after running the code, as soon as you pause, the command inputting stops"
   ]
  },
  {
   "cell_type": "code",
   "execution_count": 2,
   "metadata": {},
   "outputs": [],
   "source": [
    "def speechToText_Google():\n",
    "    import speech_recognition as sr\n",
    "    import string\n",
    "    import winsound\n",
    "\n",
    "    # Initialize the speech recognition engine\n",
    "    r = sr.Recognizer()\n",
    "\n",
    "    # Use the microphone as source\n",
    "    with sr.Microphone() as source:\n",
    "        # Set the minimum energy threshold for speech detection\n",
    "        r.energy_threshold = 300\n",
    "        winsound.Beep(1100,1000)\n",
    "        print(\"Speak something...\")\n",
    "        audio = r.listen(source, timeout=1.3,phrase_time_limit=20)\n",
    "\n",
    "    # Use Google speech recognition to convert speech to text\n",
    "    try:\n",
    "        command = r.recognize_google(audio)\n",
    "        cleaned_command = command.lower().strip().translate(str.maketrans('', '', string.punctuation))\n",
    "        \n",
    "        print(\"You said: \" + command)\n",
    "        return cleaned_command\n",
    "    \n",
    "    except sr.WaitTimeoutError: \n",
    "        print(\"You didn't say anything\")\n",
    "\n",
    "    except sr.UnknownValueError:\n",
    "        # print(\"Sorry, I could not understand your command.\")\n",
    "        print(\"I couldn't understand\")\n"
   ]
  },
  {
   "cell_type": "code",
   "execution_count": 3,
   "metadata": {},
   "outputs": [
    {
     "name": "stdout",
     "output_type": "stream",
     "text": [
      "Speak something...\n"
     ]
    },
    {
     "data": {
      "text/plain": [
       "'hello google can you hear me'"
      ]
     },
     "execution_count": 3,
     "metadata": {},
     "output_type": "execute_result"
    }
   ],
   "source": [
    "result = speechToText_Google()\n",
    "result"
   ]
  },
  {
   "attachments": {},
   "cell_type": "markdown",
   "metadata": {},
   "source": [
    "## Checks which software to open according to voice command"
   ]
  },
  {
   "cell_type": "code",
   "execution_count": 5,
   "metadata": {},
   "outputs": [],
   "source": [
    "def loading_data_and_cleaning_sofware_open():\n",
    "    from sentence_transformers import SentenceTransformer\n",
    "    import pandas as pd\n",
    "    import numpy as np\n",
    "    import nltk\n",
    "    nltk.download('stopwords')\n",
    "\n",
    "    model = SentenceTransformer('sentence-transformers/all-MiniLM-L6-v2')\n",
    "\n",
    "    data = pd.read_excel(\"software_name_training_data.xlsx\", names=[\"voice_input\", \"command\"])\n",
    "\n",
    "    stopwords = nltk.corpus.stopwords.words('english')\n",
    "    def remove_stopwords(text):\n",
    "        words = text.split()\n",
    "        without_stopwords = [word for word in words if word.casefold() not in stopwords]\n",
    "        without_stopwords = ' '.join(without_stopwords)\n",
    "        return without_stopwords\n",
    "\n",
    "    data['voice_input']= data['voice_input'].apply(lambda x:remove_stopwords(x))\n",
    "\n",
    "    #Independent feature\n",
    "    X = list(data.voice_input)\n",
    "    Y = list(data.command)\n",
    "\n",
    "    return model, Y\n",
    "\n",
    "\n",
    "## Opens sofware which it was asked for\n",
    "    \n",
    "def which_sofware_to_open(result, model, Y):\n",
    "    from sentence_transformers import util\n",
    "    import numpy as np\n",
    "\n",
    "    # Define your sentence\n",
    "    input_sentence = result\n",
    "\n",
    "    #Sentences to be compared with\n",
    "    sentences = Y\n",
    "\n",
    "    # Get the embeddings of all sentences\n",
    "    embeddings = model.encode([input_sentence] + sentences)\n",
    "\n",
    "    # Calculate cosine similarity between sentence1 and all other sentences\n",
    "    similarities = util.cos_sim(embeddings[0], embeddings[1:])\n",
    "\n",
    "    # get the index of the most similar sentence\n",
    "    most_similar_index = np.argmax(similarities) + 1\n",
    "\n",
    "    most_similar_sentence = sentences[most_similar_index]\n",
    "    most_similar_value = Y[most_similar_index]\n",
    "    # print(most_similar_sentence, most_similar_value)\n",
    "\n",
    "    return most_similar_value\n"
   ]
  },
  {
   "cell_type": "code",
   "execution_count": 6,
   "metadata": {},
   "outputs": [
    {
     "name": "stderr",
     "output_type": "stream",
     "text": [
      "C:\\Users\\Admin\\AppData\\Local\\Packages\\PythonSoftwareFoundation.Python.3.10_qbz5n2kfra8p0\\LocalCache\\local-packages\\Python310\\site-packages\\tqdm\\auto.py:22: TqdmWarning: IProgress not found. Please update jupyter and ipywidgets. See https://ipywidgets.readthedocs.io/en/stable/user_install.html\n",
      "  from .autonotebook import tqdm as notebook_tqdm\n",
      "[nltk_data] Downloading package stopwords to\n",
      "[nltk_data]     C:\\Users\\Admin\\AppData\\Roaming\\nltk_data...\n",
      "[nltk_data]   Package stopwords is already up-to-date!\n"
     ]
    }
   ],
   "source": [
    "# Loading the sentence_similarity model\n",
    "model, Y = loading_data_and_cleaning_sofware_open()"
   ]
  },
  {
   "cell_type": "code",
   "execution_count": 7,
   "metadata": {},
   "outputs": [
    {
     "name": "stdout",
     "output_type": "stream",
     "text": [
      "open brave\n"
     ]
    }
   ],
   "source": [
    "# VARIABLE\n",
    "# Calling the function for opening sofware\n",
    "software = which_sofware_to_open('open brave',model, Y)\n",
    "\n",
    "if \"open\" in software:\n",
    "    import os\n",
    "    \n",
    "    print(software)\n",
    "\n",
    "    app = software.split(' ')[-1]\n",
    "    os.system(f'start { app}')"
   ]
  },
  {
   "attachments": {},
   "cell_type": "markdown",
   "metadata": {},
   "source": [
    "## Search anything on google"
   ]
  },
  {
   "cell_type": "code",
   "execution_count": 8,
   "metadata": {},
   "outputs": [],
   "source": [
    "def search_on_google():\n",
    "    from selenium import webdriver\n",
    "    from selenium.webdriver.common.keys import Keys\n",
    "    import time\n",
    "\n",
    "    ## navigate to the Google All page\n",
    "    query  = result\n",
    "    driver.get(\"https://www.\"+software+\".com/search?q=\"+query+\"&source=lmns&hl=en-US&sa=X&ved=2ahUKEwim0uf20fb9AhVA_TgGHTdaAjwQ_AUoAHoECAEQAA\")"
   ]
  },
  {
   "cell_type": "code",
   "execution_count": null,
   "metadata": {},
   "outputs": [],
   "source": []
  },
  {
   "attachments": {},
   "cell_type": "markdown",
   "metadata": {},
   "source": [
    "## Open chrome through web client"
   ]
  },
  {
   "cell_type": "code",
   "execution_count": 9,
   "metadata": {},
   "outputs": [],
   "source": [
    "def open_same_chrome():\n",
    "    \n",
    "    import win32com.client\n",
    "    # Create an instance of the Shell object\n",
    "    shell = win32com.client.Dispatch(\"WScript.Shell\")\n",
    "    chrome_path = r\"C:\\Program Files\\Google\\Chrome\\Application\\chrome.exe\"\n",
    "    shell.Run(f'\"{chrome_path}\"')"
   ]
  },
  {
   "cell_type": "code",
   "execution_count": null,
   "metadata": {},
   "outputs": [],
   "source": [
    "import win32com.client\n",
    "import pyautogui\n",
    "import time\n",
    "\n",
    "\n",
    "# Create an instance of the Shell object\n",
    "shell = win32com.client.Dispatch(\"WScript.Shell\")\n",
    "\n",
    "\n",
    "# Open Google Chrome and navigate to Twitter\n",
    "chrome_path = r\"C:\\Program Files\\Google\\Chrome\\Application\\chrome.exe\"\n",
    "twitter_url = \"https://twitter.com\"\n",
    "shell.Run(f'\"{chrome_path}\" \"{twitter_url}\"')\n",
    "\n",
    "\n",
    "# Wait for Chrome to open and Twitter to load\n",
    "time.sleep(5)\n",
    "\n",
    "\n",
    "# Activate the Chrome window\n",
    "shell.AppActivate(\"Twitter\")\n",
    "\n",
    "\n",
    "# Wait for 5 seconds\n",
    "time.sleep(5)\n",
    "\n",
    "\n",
    "# List of image files containing variations of the search button\n",
    "search_button_images = ['search_box.png', 'search_button2.png', 'search_button3.png']\n",
    "\n",
    "\n",
    "# Search for all instances of the search button on the screen\n",
    "search_button_locations = []\n",
    "for image in search_button_images:\n",
    "    locations = pyautogui.locateAllOnScreen(image)\n",
    "    search_button_locations.extend(list(locations))\n",
    "\n",
    "\n",
    "# Click on the first search button found\n",
    "if search_button_locations:\n",
    "    search_button_location = search_button_locations[0]\n",
    "    search_button_center = pyautogui.center(search_button_location)\n",
    "    pyautogui.moveTo(search_button_center)\n",
    "    pyautogui.click()\n",
    "    shell.SendKeys(\"whats happening?\")\n",
    "    time.sleep(1)\n",
    "    # Press the \"Control + Enter\" keys to post the tweet\n",
    "    shell.SendKeys(\"^{ENTER}\")\n",
    "else:\n",
    "    print(\"Search button not found on the screen.\")\n"
   ]
  },
  {
   "cell_type": "code",
   "execution_count": null,
   "metadata": {},
   "outputs": [],
   "source": []
  },
  {
   "attachments": {},
   "cell_type": "markdown",
   "metadata": {},
   "source": [
    "## The whole All_IN_ONE AI-system in flow !!"
   ]
  },
  {
   "cell_type": "code",
   "execution_count": 116,
   "metadata": {},
   "outputs": [
    {
     "name": "stdout",
     "output_type": "stream",
     "text": [
      "Speak something...\n",
      "You said: open Google Chrome\n",
      "Speak something...\n",
      "You said: search Elon Musk on Google\n",
      "Speak something...\n",
      "You said: open images\n",
      "Speak something...\n",
      "You said: open videos\n",
      "Speak something...\n",
      "You said: search Netflix\n",
      "Speak something...\n",
      "You said: search rubbish\n",
      "Speak something...\n",
      "You said: search rubbish\n",
      "Speak something...\n",
      "You said: search rubbish\n",
      "Speak something...\n",
      "I couldn't understand\n"
     ]
    },
    {
     "ename": "TypeError",
     "evalue": "argument of type 'NoneType' is not iterable",
     "output_type": "error",
     "traceback": [
      "\u001b[1;31m---------------------------------------------------------------------------\u001b[0m",
      "\u001b[1;31mTypeError\u001b[0m                                 Traceback (most recent call last)",
      "Cell \u001b[1;32mIn[116], line 15\u001b[0m\n\u001b[0;32m     13\u001b[0m     time\u001b[39m.\u001b[39msleep(\u001b[39m2\u001b[39m)  \u001b[39m# WAits for chrome to open\u001b[39;00m\n\u001b[0;32m     14\u001b[0m     result \u001b[39m=\u001b[39m speechToText_Google()  \u001b[39m#again opens voice inputting   \u001b[39;00m\n\u001b[1;32m---> 15\u001b[0m     after_chrome_flow(result)\n\u001b[0;32m     16\u001b[0m     driver\u001b[39m.\u001b[39mquit()\n\u001b[0;32m     19\u001b[0m \u001b[39m#If any other software is opened\u001b[39;00m\n\u001b[0;32m     20\u001b[0m \u001b[39melse\u001b[39;00m:\n",
      "Cell \u001b[1;32mIn[28], line 13\u001b[0m, in \u001b[0;36mafter_chrome_flow\u001b[1;34m(result)\u001b[0m\n\u001b[0;32m     11\u001b[0m         search_on_youtube(result)\n\u001b[0;32m     12\u001b[0m     \u001b[39melse\u001b[39;00m:\n\u001b[1;32m---> 13\u001b[0m         if_search_on_chrome(result)\n\u001b[0;32m     15\u001b[0m \u001b[39mif\u001b[39;00m \u001b[39many\u001b[39m(word \u001b[39min\u001b[39;00m result \u001b[39mfor\u001b[39;00m word \u001b[39min\u001b[39;00m min_max_list):\n\u001b[0;32m     16\u001b[0m     min_max(result)\n",
      "Cell \u001b[1;32mIn[11], line 6\u001b[0m, in \u001b[0;36mif_search_on_chrome\u001b[1;34m(result)\u001b[0m\n\u001b[0;32m      3\u001b[0m result \u001b[39m=\u001b[39m speechToText_Google()  \u001b[39m#again opens voice inputting\u001b[39;00m\n\u001b[0;32m      5\u001b[0m \u001b[39mif\u001b[39;00m \u001b[39m\"\u001b[39m\u001b[39mimages\u001b[39m\u001b[39m\"\u001b[39m \u001b[39mor\u001b[39;00m \u001b[39m\"\u001b[39m\u001b[39mvideos\u001b[39m\u001b[39m\"\u001b[39m \u001b[39min\u001b[39;00m result: \n\u001b[1;32m----> 6\u001b[0m     if_images_or_videos(result)\n\u001b[0;32m      7\u001b[0m     result \u001b[39m=\u001b[39m speechToText_Google()  \u001b[39m#again opens voice inputting\u001b[39;00m\n\u001b[0;32m      8\u001b[0m     after_chrome_flow()\n",
      "Cell \u001b[1;32mIn[12], line 9\u001b[0m, in \u001b[0;36mif_images_or_videos\u001b[1;34m(result)\u001b[0m\n\u001b[0;32m      6\u001b[0m     if_search_on_chrome(result)\n\u001b[0;32m      8\u001b[0m \u001b[39mif\u001b[39;00m \u001b[39m\"\u001b[39m\u001b[39mimages\u001b[39m\u001b[39m\"\u001b[39m \u001b[39mor\u001b[39;00m \u001b[39m\"\u001b[39m\u001b[39mvideos\u001b[39m\u001b[39m\"\u001b[39m \u001b[39min\u001b[39;00m result:        \n\u001b[1;32m----> 9\u001b[0m     if_images_or_videos(result)\n",
      "Cell \u001b[1;32mIn[12], line 6\u001b[0m, in \u001b[0;36mif_images_or_videos\u001b[1;34m(result)\u001b[0m\n\u001b[0;32m      3\u001b[0m result \u001b[39m=\u001b[39m speechToText_Google()  \u001b[39m#again opens voice inputting\u001b[39;00m\n\u001b[0;32m      5\u001b[0m \u001b[39mif\u001b[39;00m \u001b[39m\"\u001b[39m\u001b[39msearch\u001b[39m\u001b[39m\"\u001b[39m \u001b[39min\u001b[39;00m result:\n\u001b[1;32m----> 6\u001b[0m     if_search_on_chrome(result)\n\u001b[0;32m      8\u001b[0m \u001b[39mif\u001b[39;00m \u001b[39m\"\u001b[39m\u001b[39mimages\u001b[39m\u001b[39m\"\u001b[39m \u001b[39mor\u001b[39;00m \u001b[39m\"\u001b[39m\u001b[39mvideos\u001b[39m\u001b[39m\"\u001b[39m \u001b[39min\u001b[39;00m result:        \n\u001b[0;32m      9\u001b[0m     if_images_or_videos(result)\n",
      "Cell \u001b[1;32mIn[11], line 6\u001b[0m, in \u001b[0;36mif_search_on_chrome\u001b[1;34m(result)\u001b[0m\n\u001b[0;32m      3\u001b[0m result \u001b[39m=\u001b[39m speechToText_Google()  \u001b[39m#again opens voice inputting\u001b[39;00m\n\u001b[0;32m      5\u001b[0m \u001b[39mif\u001b[39;00m \u001b[39m\"\u001b[39m\u001b[39mimages\u001b[39m\u001b[39m\"\u001b[39m \u001b[39mor\u001b[39;00m \u001b[39m\"\u001b[39m\u001b[39mvideos\u001b[39m\u001b[39m\"\u001b[39m \u001b[39min\u001b[39;00m result: \n\u001b[1;32m----> 6\u001b[0m     if_images_or_videos(result)\n\u001b[0;32m      7\u001b[0m     result \u001b[39m=\u001b[39m speechToText_Google()  \u001b[39m#again opens voice inputting\u001b[39;00m\n\u001b[0;32m      8\u001b[0m     after_chrome_flow()\n",
      "Cell \u001b[1;32mIn[12], line 6\u001b[0m, in \u001b[0;36mif_images_or_videos\u001b[1;34m(result)\u001b[0m\n\u001b[0;32m      3\u001b[0m result \u001b[39m=\u001b[39m speechToText_Google()  \u001b[39m#again opens voice inputting\u001b[39;00m\n\u001b[0;32m      5\u001b[0m \u001b[39mif\u001b[39;00m \u001b[39m\"\u001b[39m\u001b[39msearch\u001b[39m\u001b[39m\"\u001b[39m \u001b[39min\u001b[39;00m result:\n\u001b[1;32m----> 6\u001b[0m     if_search_on_chrome(result)\n\u001b[0;32m      8\u001b[0m \u001b[39mif\u001b[39;00m \u001b[39m\"\u001b[39m\u001b[39mimages\u001b[39m\u001b[39m\"\u001b[39m \u001b[39mor\u001b[39;00m \u001b[39m\"\u001b[39m\u001b[39mvideos\u001b[39m\u001b[39m\"\u001b[39m \u001b[39min\u001b[39;00m result:        \n\u001b[0;32m      9\u001b[0m     if_images_or_videos(result)\n",
      "Cell \u001b[1;32mIn[11], line 6\u001b[0m, in \u001b[0;36mif_search_on_chrome\u001b[1;34m(result)\u001b[0m\n\u001b[0;32m      3\u001b[0m result \u001b[39m=\u001b[39m speechToText_Google()  \u001b[39m#again opens voice inputting\u001b[39;00m\n\u001b[0;32m      5\u001b[0m \u001b[39mif\u001b[39;00m \u001b[39m\"\u001b[39m\u001b[39mimages\u001b[39m\u001b[39m\"\u001b[39m \u001b[39mor\u001b[39;00m \u001b[39m\"\u001b[39m\u001b[39mvideos\u001b[39m\u001b[39m\"\u001b[39m \u001b[39min\u001b[39;00m result: \n\u001b[1;32m----> 6\u001b[0m     if_images_or_videos(result)\n\u001b[0;32m      7\u001b[0m     result \u001b[39m=\u001b[39m speechToText_Google()  \u001b[39m#again opens voice inputting\u001b[39;00m\n\u001b[0;32m      8\u001b[0m     after_chrome_flow()\n",
      "Cell \u001b[1;32mIn[12], line 5\u001b[0m, in \u001b[0;36mif_images_or_videos\u001b[1;34m(result)\u001b[0m\n\u001b[0;32m      2\u001b[0m open_images_videos(result)\n\u001b[0;32m      3\u001b[0m result \u001b[39m=\u001b[39m speechToText_Google()  \u001b[39m#again opens voice inputting\u001b[39;00m\n\u001b[1;32m----> 5\u001b[0m \u001b[39mif\u001b[39;00m \u001b[39m\"\u001b[39;49m\u001b[39msearch\u001b[39;49m\u001b[39m\"\u001b[39;49m \u001b[39min\u001b[39;49;00m result:\n\u001b[0;32m      6\u001b[0m     if_search_on_chrome(result)\n\u001b[0;32m      8\u001b[0m \u001b[39mif\u001b[39;00m \u001b[39m\"\u001b[39m\u001b[39mimages\u001b[39m\u001b[39m\"\u001b[39m \u001b[39mor\u001b[39;00m \u001b[39m\"\u001b[39m\u001b[39mvideos\u001b[39m\u001b[39m\"\u001b[39m \u001b[39min\u001b[39;00m result:        \n",
      "\u001b[1;31mTypeError\u001b[0m: argument of type 'NoneType' is not iterable"
     ]
    }
   ],
   "source": [
    "result = speechToText_Google()\n",
    "\n",
    "# Checking if the command is to open any software and open it\n",
    "software = which_sofware_to_open(result,model, Y)\n",
    "if \"open\" in software:\n",
    "\n",
    "    #If specifically chrome is opened\n",
    "    if \"chrome\" in software: \n",
    "        import time\n",
    "\n",
    "        open_same_chrome()\n",
    "        # driver = temp_chrome()\n",
    "        time.sleep(2)  # WAits for chrome to open\n",
    "        result = speechToText_Google()  #again opens voice inputting   \n",
    "        after_chrome_flow(result)\n",
    "        driver.quit()\n",
    "        \n",
    "\n",
    "    #If any other software is opened\n",
    "    else:\n",
    "        import os\n",
    "        import time\n",
    "\n",
    "        print(software)\n",
    "        app = software.split(' ')[-1]\n",
    "        os.system(f'start { app}')\n",
    "\n",
    "        time.sleep(2)\n",
    "\n",
    "        result = speechToText_Google()  #again opens voice inputting\n",
    "\n",
    "        while 'stop' not in result:\n",
    "            result = min_max(result)\n",
    "else:\n",
    "    print(result)\n"
   ]
  },
  {
   "cell_type": "code",
   "execution_count": null,
   "metadata": {},
   "outputs": [],
   "source": []
  },
  {
   "cell_type": "code",
   "execution_count": 43,
   "metadata": {},
   "outputs": [],
   "source": [
    "temp_chrome()"
   ]
  },
  {
   "cell_type": "code",
   "execution_count": 28,
   "metadata": {},
   "outputs": [],
   "source": [
    "def after_chrome_flow(result):\n",
    "    \n",
    "    # open_same_chrome()\n",
    "\n",
    "    # time.sleep(2)  # WAits for chrome to open\n",
    "    \n",
    "    # result = speechToText_Google()  #again opens voice inputting\n",
    "\n",
    "    if \"search\" in result: #if user wants to search anything further\n",
    "        if \"youtube\" in result:\n",
    "            search_on_youtube(result)\n",
    "        else:\n",
    "            if_search_on_chrome(result)\n",
    "\n",
    "    if any(word in result for word in min_max_list):\n",
    "        min_max(result)\n",
    "        result = speechToText_Google()  #again opens voice inputting]\n",
    "       \n",
    "\n",
    "        # min_max(result)\n"
   ]
  },
  {
   "cell_type": "code",
   "execution_count": 11,
   "metadata": {},
   "outputs": [],
   "source": [
    "def if_search_on_chrome(result):\n",
    "    search_on_chrome(result)\n",
    "    result = speechToText_Google()  #again opens voice inputting\n",
    "\n",
    "    if \"images\" or \"videos\" in result: \n",
    "        if_images_or_videos(result)\n",
    "        result = speechToText_Google()  #again opens voice inputting\n",
    "        after_chrome_flow()\n",
    "\n",
    "    \n",
    "    if any(word in result for word in min_max_list):\n",
    "        min_max(result)\n",
    "        result = speechToText_Google()  #again opens voice inputting]\n",
    "\n",
    "    if \"search\" in result:\n",
    "        if \"youtube\" in result:\n",
    "            search_on_youtube(result)\n",
    "        else:\n",
    "            if_search_on_chrome(result)\n",
    "\n",
    "\n"
   ]
  },
  {
   "cell_type": "code",
   "execution_count": 12,
   "metadata": {},
   "outputs": [],
   "source": [
    "def if_images_or_videos(result):\n",
    "    open_images_videos(result)\n",
    "    result = speechToText_Google()  #again opens voice inputting\n",
    "\n",
    "    if \"search\" in result:\n",
    "        if_search_on_chrome(result)\n",
    "\n",
    "    if \"images\" or \"videos\" in result:        \n",
    "        if_images_or_videos(result)"
   ]
  },
  {
   "cell_type": "code",
   "execution_count": 26,
   "metadata": {},
   "outputs": [],
   "source": [
    "# import re\n",
    "\n",
    "# sentence = result\n",
    "\n",
    "# match = re.search(r'open\\s+\\w+', sentence)\n",
    "\n",
    "# if match:\n",
    "#     command = match.group()\n",
    "#     print(command)\n",
    "# else:\n",
    "#     print(\"Command not found\")"
   ]
  },
  {
   "cell_type": "code",
   "execution_count": 25,
   "metadata": {},
   "outputs": [],
   "source": [
    "# import speech_recognition as sr\n",
    "# import string\n",
    "# import os\n",
    "# from email.message import EmailMessage\n",
    "# import ssl\n",
    "# import smtplib\n",
    "# import torch\n",
    "# from transformers import BertTokenizer, BertForSequenceClassification\n",
    "# import subprocess\n",
    "# import webbrowser\n",
    "\n",
    "\n",
    "# # r = sr.Recognizer()\n",
    "\n",
    "\n",
    "\n",
    "\n",
    "# def recognize_command():\n",
    "   \n",
    "#     # with sr.Microphone() as source:\n",
    "#     #     print(\"Speak now...\")\n",
    "#     #     r.adjust_for_ambient_noise(source)\n",
    "#     #     audio = r.listen(source)\n",
    "\n",
    "\n",
    "#     try:\n",
    "#         # command = r.recognize_google(audio)\n",
    "#         # command = command.lower().strip().translate(str.maketrans('', '', string.punctuation))\n",
    "#         # command = \"open lync\"\n",
    "#         command=result\n",
    "#         print(\"You said: \" + command)\n",
    "       \n",
    "#         if \"open\" in command:\n",
    "           \n",
    "\n",
    "\n",
    "#             app = command.split(' ')[-1]\n",
    "#             os.system(f'start { app}')\n",
    "           \n",
    "       \n",
    "#     except sr.UnknownValueError:\n",
    "#         print(\"Sorry, I didn't understand that.\")\n",
    "       \n",
    "\n",
    "\n",
    "# recognize_command()"
   ]
  },
  {
   "attachments": {},
   "cell_type": "markdown",
   "metadata": {},
   "source": [
    "## YT open search"
   ]
  },
  {
   "cell_type": "code",
   "execution_count": 13,
   "metadata": {},
   "outputs": [
    {
     "name": "stderr",
     "output_type": "stream",
     "text": [
      "[nltk_data] Downloading package stopwords to\n",
      "[nltk_data]     C:\\Users\\Admin\\AppData\\Roaming\\nltk_data...\n",
      "[nltk_data]   Package stopwords is already up-to-date!\n"
     ]
    }
   ],
   "source": [
    "# Once run\n",
    "from transformers import pipeline\n",
    "import webbrowser\n",
    "import nltk\n",
    "nltk.download('stopwords')\n",
    "from nltk.corpus import stopwords\n",
    "\n",
    "# Load the NLU model\n",
    "# nlp = pipeline(\"question-answering\", model=\"bert-large-cased-whole-word-masking-finetuned-squad\")\n"
   ]
  },
  {
   "cell_type": "code",
   "execution_count": 14,
   "metadata": {},
   "outputs": [],
   "source": [
    "\n",
    "def search_on_youtube(command):\n",
    "    # Define stopwords\n",
    "    stop_words = set(stopwords.words('english'))\n",
    "    stop_words.add('youtube')\n",
    "\n",
    "    # Get user input\n",
    "    # user_input = \"find me a tutorial on how to cook spaghetti on youtube\"\n",
    "    user_input = command\n",
    "\n",
    "    # Extract the search query from the user input\n",
    "    search_query_words = user_input.split()[1:]\n",
    "    search_query_words = [word for word in search_query_words if word.lower() not in stop_words]\n",
    "    search_query = \"https://www.youtube.com/results?search_query=\" + \"+\".join(search_query_words)\n",
    "\n",
    "    # Extract the answer from the user input using the NLU model\n",
    "    # answer = nlp(question=user_input, context=search_query)\n",
    "\n",
    "    # Open the search query in Chrome\n",
    "    webbrowser.open_new_tab(search_query)\n"
   ]
  },
  {
   "attachments": {},
   "cell_type": "markdown",
   "metadata": {},
   "source": [
    "## Search anything on google"
   ]
  },
  {
   "cell_type": "code",
   "execution_count": 15,
   "metadata": {},
   "outputs": [],
   "source": [
    "def search_on_chrome(query):\n",
    "    # Define stopwords\n",
    "    stop_words = set(stopwords.words('english'))\n",
    "    stop_words.add('chrome')\n",
    "    \n",
    "    # Get user input\n",
    "    # user_input = \"find me a tutorial on how to cook spaghetti on youtube\"\n",
    "    user_input = query\n",
    "\n",
    "    # Extract the search query from the user input\n",
    "    search_query_words = user_input.split()[1:]\n",
    "    search_query_words = [word for word in search_query_words if word.lower() not in stop_words]\n",
    "    search_query = \"https://www.google.com/search?q=\"+'+'.join(search_query_words)+'&source=lmns&hl=en-US&sa=X&ved=2ahUKEwim0uf20fb9AhVA_TgGHTdaAjwQ_AUoAHoECAEQAA'\n",
    "\n",
    "    # # Extract the answer from the user input using the NLU model\n",
    "    # answer = nlp(question=user_input, context=search_query)\n",
    "\n",
    "    # Open the search query in Chrome\n",
    "    webbrowser.open_new_tab(search_query)\n"
   ]
  },
  {
   "cell_type": "code",
   "execution_count": 34,
   "metadata": {},
   "outputs": [],
   "source": [
    "search_on_chrome('search how to tie a tie on chrome')"
   ]
  },
  {
   "attachments": {},
   "cell_type": "markdown",
   "metadata": {},
   "source": [
    "## Open the first link"
   ]
  },
  {
   "cell_type": "code",
   "execution_count": null,
   "metadata": {},
   "outputs": [],
   "source": []
  },
  {
   "attachments": {},
   "cell_type": "markdown",
   "metadata": {},
   "source": [
    "## Beep sound"
   ]
  },
  {
   "cell_type": "code",
   "execution_count": 16,
   "metadata": {},
   "outputs": [],
   "source": [
    "import winsound\n",
    "\n",
    "winsound.Beep(1100,1000)"
   ]
  },
  {
   "attachments": {},
   "cell_type": "markdown",
   "metadata": {},
   "source": [
    "## Global Variables"
   ]
  },
  {
   "cell_type": "code",
   "execution_count": 17,
   "metadata": {},
   "outputs": [],
   "source": [
    "min_max_list = ['minimize', 'hide', 'minimise','maximize', 'expand', 'maximise','restore down','down','restore down','restore up','up','restore up','close', 'quit', 'exit']"
   ]
  },
  {
   "attachments": {},
   "cell_type": "markdown",
   "metadata": {},
   "source": [
    "## Minimize Maximize"
   ]
  },
  {
   "cell_type": "code",
   "execution_count": 64,
   "metadata": {},
   "outputs": [],
   "source": [
    "# import speech_recognition as sr\n",
    "# import pyautogui\n",
    "\n",
    "\n",
    "# # Initialize the speech recognition module\n",
    "# r = sr.Recognizer()\n",
    "\n",
    "\n",
    "# # Define the voice command keywords\n",
    "# minimize_keywords = ['minimize', 'hide', 'minimise']\n",
    "# maximize_keywords = ['maximize', 'expand', 'maximise']\n",
    "# restoreDown_keywords = ['restore down','down','restore down']\n",
    "# restoreUp_keywords = ['restore up','up','restore up']\n",
    "# close_keywords = ['close', 'quit', 'exit']\n",
    "\n",
    "\n",
    "\n",
    "\n",
    "# # Define the keyboard shortcuts for each action\n",
    "# minimize_key = 'win+m'\n",
    "# maximize_key = 'win+shift+m'\n",
    "# restoreDown_key = 'win+down'\n",
    "# restoreUp_key = 'win+up'\n",
    "# close_key = 'alt+f4'\n",
    "\n",
    "\n",
    "# # Start listening to the microphone\n",
    "# with sr.Microphone() as source:\n",
    "#     print(\"Listening...\")\n",
    "#     while True:\n",
    "#         # Listen for voice commands\n",
    "#         audio = r.listen(source)\n",
    "\n",
    "\n",
    "#         try:\n",
    "#             # Convert voice to text\n",
    "#             command = r.recognize_google(audio).lower()\n",
    "#             print(f\"Command: {command}\")\n",
    "\n",
    "\n",
    "#             # Check if the command is to minimize, maximize or close the application\n",
    "#             if any(keyword in command for keyword in minimize_keywords):\n",
    "#                 pyautogui.hotkey(*minimize_key.split('+'))\n",
    "#                 print(\"Application minimized\")\n",
    "#             elif any(keyword in command for keyword in maximize_keywords):\n",
    "#                 pyautogui.hotkey(*maximize_key.split('+'))\n",
    "#                 print(\"Application maximized\")\n",
    "#             elif any(keyword in command for keyword in restoreDown_keywords):\n",
    "#                 pyautogui.hotkey(*restoreDown_key.split('+'))\n",
    "#                 print(\"Application restore Downed\")\n",
    "#             elif any(keyword in command for keyword in restoreUp_keywords):\n",
    "#                 pyautogui.hotkey(*restoreUp_key.split('+'))\n",
    "#                 print(\"Application restore Uped\")\n",
    "#             elif any(keyword in command for keyword in close_keywords):\n",
    "#                 pyautogui.hotkey(*close_key.split('+'))\n",
    "#                 print(\"Application closed\")\n",
    "#                 break  # exit the loop after closing the application\n",
    "#             else:\n",
    "#                 print(\"Command not recognized\")\n",
    "\n",
    "\n",
    "#         except sr.UnknownValueError:\n",
    "#             print(\"Unable to recognize speech\")\n",
    "#         except sr.RequestError as e:\n",
    "#             print(f\"Request error: {e}\")"
   ]
  },
  {
   "cell_type": "code",
   "execution_count": 18,
   "metadata": {},
   "outputs": [],
   "source": [
    "def min_max(command):\n",
    "    import pyautogui\n",
    "\n",
    "    # Define the voice command keywords\n",
    "    minimize_keywords = ['minimize', 'hide', 'minimise']\n",
    "    maximize_keywords = ['maximize', 'expand', 'maximise']\n",
    "    restoreDown_keywords = ['restore down','down','restore down']\n",
    "    restoreUp_keywords = ['restore up','up','restore up']\n",
    "    close_keywords = ['close', 'quit', 'exit']\n",
    "\n",
    "    # Define the keyboard shortcuts for each action\n",
    "    minimize_key = 'win+m'\n",
    "    maximize_key = 'win+shift+m'\n",
    "    restoreDown_key = 'win+down'\n",
    "    restoreUp_key = 'win+up'\n",
    "    close_key = 'alt+f4'\n",
    "\n",
    "    # Check if the command is to minimize, maximize or close the application\n",
    "    if any(keyword in command for keyword in minimize_keywords):\n",
    "        pyautogui.hotkey(*minimize_key.split('+'))\n",
    "        print(\"Application minimized\")\n",
    "    elif any(keyword in command for keyword in maximize_keywords):\n",
    "        pyautogui.hotkey(*maximize_key.split('+'))\n",
    "        print(\"Application maximized\")\n",
    "    elif any(keyword in command for keyword in restoreDown_keywords):\n",
    "        pyautogui.hotkey(*restoreDown_key.split('+'))\n",
    "        print(\"Application restore Downed\")\n",
    "    elif any(keyword in command for keyword in restoreUp_keywords):\n",
    "        pyautogui.hotkey(*restoreUp_key.split('+'))\n",
    "        print(\"Application restore Uped\")\n",
    "    elif any(keyword in command for keyword in close_keywords):\n",
    "        pyautogui.hotkey(*close_key.split('+'))\n",
    "        print(\"Application closed\")\n",
    "    else:\n",
    "        return\n",
    "\n",
    "    \n",
    "    result = speechToText_Google()  #again opens voice inputting\n",
    "\n",
    "    return result"
   ]
  },
  {
   "cell_type": "code",
   "execution_count": 103,
   "metadata": {},
   "outputs": [],
   "source": [
    "def temp_chrome():\n",
    "    # import speech_recognition as sr\n",
    "    from selenium import webdriver\n",
    "    # from selenium.webdriver.common.keys import Keys\n",
    "    from selenium.webdriver.chrome.options import Options\n",
    "    # from selenium.webdriver.common.by import By\n",
    "    # from selenium.webdriver.support.ui import WebDriverWait\n",
    "    # from selenium.webdriver.support import expected_conditions as EC\n",
    "    # import time\n",
    "\n",
    "\n",
    "    # # initialize the speech recognizer\n",
    "    # r = sr.Recognizer()\n",
    "    browser = webdriver.Chrome()\n",
    "    browser.get(\"https://www.google.com\")\n",
    "\n",
    "    # open the web browser and go to Google search\n",
    "    # chrome_options = Options()\n",
    "    # chrome_options.add_argument(\"--disable-extensions\")\n",
    "    # # chrome_options.add_argument(r\"user-data-dir=C:\\Users\\Admin\\AppData\\Local\\Google\\Chrome\\User Data\\Default\")\n",
    "    # # chrome_options.add_argument(\"--remote-debugging-port=9222\")\n",
    "    # # driver = webdriver.Chrome(options=chrome_options)\n",
    "    # # chrome_browser_path = r\"C:\\Program Files\\Google\\Chrome\\Application\\chrome.exe\"\n",
    "\n",
    "    # # chrome_options.binary_location = chrome_browser_path\n",
    "    # chrome_options.add_argument(\"user-data-dir=C:/Users/Admin/AppData/Local/Google/Chrome/User Data\")\n",
    "    # chrome_options.add_argument(\"--start-maximized\")\n",
    "    # chrome_driver_path = \"C:/path/to/your/chrome/driver.exe\"\n",
    "    # driver = webdriver.Chrome(executable_path=chrome_driver_path, options=chrome_options)\n",
    "\n",
    "    # driver = webdriver.Chrome(executable_path=r\"D:\\AAdownloadse\\downloads\\chromedriver_win32\\chromedriver.exe\",options=chrome_options)\n",
    "    # driver.quit()\n",
    "    # driver = webdriver.Chrome(options=chrome_options)\n",
    "    # driver.get(\"https://www.google.com\")\n",
    "\n",
    "    # return driver"
   ]
  },
  {
   "cell_type": "code",
   "execution_count": 114,
   "metadata": {},
   "outputs": [
    {
     "name": "stderr",
     "output_type": "stream",
     "text": [
      "C:\\Users\\Admin\\AppData\\Local\\Temp\\ipykernel_2820\\1671703713.py:13: DeprecationWarning: executable_path has been deprecated, please pass in a Service object\n",
      "  driver = webdriver.Chrome(executable_path=chromedriver_path, options=options)\n"
     ]
    },
    {
     "name": "stdout",
     "output_type": "stream",
     "text": [
      "Error: WebDriverException occurred.\n",
      "None\n"
     ]
    }
   ],
   "source": [
    "from selenium import webdriver\n",
    "from selenium.common.exceptions import WebDriverException\n",
    "\n",
    "\n",
    "options = webdriver.ChromeOptions()\n",
    "options.add_argument(r\"user-data-dir=C:/Users/Admin/AppData/Local/Google/Chrome/User Data\")\n",
    "\n",
    "\n",
    "chromedriver_path = \"D:\\AAdownloadse\\downloads\\chromedriver_win32\\chromedriver.exe\"\n",
    "\n",
    "\n",
    "try:\n",
    "    driver = webdriver.Chrome(executable_path=chromedriver_path, options=options)\n",
    "    print(driver)\n",
    "\n",
    "\n",
    "except WebDriverException:\n",
    "    print(\"Error: WebDriverException occurred.\")\n",
    "    print(driver)\n",
    "    # driver = None\n",
    "\n",
    "\n",
    "if driver:\n",
    "    driver.get(\"https://www.google.com\")\n",
    "    # rest of your code here\n"
   ]
  },
  {
   "cell_type": "code",
   "execution_count": 107,
   "metadata": {},
   "outputs": [
    {
     "ename": "WebDriverException",
     "evalue": "Message: unknown error: Chrome failed to start: exited normally.\n  (unknown error: DevToolsActivePort file doesn't exist)\n  (The process started from chrome location C:\\Program Files\\Google\\Chrome\\Application\\chrome.exe is no longer running, so ChromeDriver is assuming that Chrome has crashed.)\nStacktrace:\nBacktrace:\n\t(No symbol) [0x0050DCE3]\n\t(No symbol) [0x004A39D1]\n\t(No symbol) [0x003B4DA8]\n\t(No symbol) [0x003D20BC]\n\t(No symbol) [0x003CED19]\n\t(No symbol) [0x004015AE]\n\t(No symbol) [0x0040129C]\n\t(No symbol) [0x003FACC6]\n\t(No symbol) [0x003D6F68]\n\t(No symbol) [0x003D80CD]\n\tGetHandleVerifier [0x00783832+2506274]\n\tGetHandleVerifier [0x007B9794+2727300]\n\tGetHandleVerifier [0x007BE36C+2746716]\n\tGetHandleVerifier [0x005B6690+617600]\n\t(No symbol) [0x004AC712]\n\t(No symbol) [0x004B1FF8]\n\t(No symbol) [0x004B20DB]\n\t(No symbol) [0x004BC63B]\n\tBaseThreadInitThunk [0x753000F9+25]\n\tRtlGetAppContainerNamedObjectPath [0x77157BBE+286]\n\tRtlGetAppContainerNamedObjectPath [0x77157B8E+238]\n",
     "output_type": "error",
     "traceback": [
      "\u001b[1;31m---------------------------------------------------------------------------\u001b[0m",
      "\u001b[1;31mWebDriverException\u001b[0m                        Traceback (most recent call last)",
      "Cell \u001b[1;32mIn[107], line 6\u001b[0m\n\u001b[0;32m      4\u001b[0m options\u001b[39m.\u001b[39madd_argument(\u001b[39mr\u001b[39m\u001b[39m\"\u001b[39m\u001b[39muser-data-dir=C:/Users/Admin/AppData/Local/Google/Chrome/User Data\u001b[39m\u001b[39m\"\u001b[39m)\n\u001b[0;32m      5\u001b[0m \u001b[39m# chromedriver_path = 'D:\\AAdownloadse\\downloads\\chromedriver_win32\\chromedriver.exe'\u001b[39;00m\n\u001b[1;32m----> 6\u001b[0m driver \u001b[39m=\u001b[39m webdriver\u001b[39m.\u001b[39;49mChrome(options\u001b[39m=\u001b[39;49moptions)\n\u001b[0;32m      7\u001b[0m driver\u001b[39m.\u001b[39mget(\u001b[39m\"\u001b[39m\u001b[39mhttps://www.google.com\u001b[39m\u001b[39m\"\u001b[39m)\n",
      "File \u001b[1;32m~\\AppData\\Local\\Packages\\PythonSoftwareFoundation.Python.3.10_qbz5n2kfra8p0\\LocalCache\\local-packages\\Python310\\site-packages\\selenium\\webdriver\\chrome\\webdriver.py:80\u001b[0m, in \u001b[0;36mWebDriver.__init__\u001b[1;34m(self, executable_path, port, options, service_args, desired_capabilities, service_log_path, chrome_options, service, keep_alive)\u001b[0m\n\u001b[0;32m     77\u001b[0m \u001b[39mif\u001b[39;00m \u001b[39mnot\u001b[39;00m service:\n\u001b[0;32m     78\u001b[0m     service \u001b[39m=\u001b[39m Service(executable_path, port, service_args, service_log_path)\n\u001b[1;32m---> 80\u001b[0m \u001b[39msuper\u001b[39;49m()\u001b[39m.\u001b[39;49m\u001b[39m__init__\u001b[39;49m(\n\u001b[0;32m     81\u001b[0m     DesiredCapabilities\u001b[39m.\u001b[39;49mCHROME[\u001b[39m\"\u001b[39;49m\u001b[39mbrowserName\u001b[39;49m\u001b[39m\"\u001b[39;49m],\n\u001b[0;32m     82\u001b[0m     \u001b[39m\"\u001b[39;49m\u001b[39mgoog\u001b[39;49m\u001b[39m\"\u001b[39;49m,\n\u001b[0;32m     83\u001b[0m     port,\n\u001b[0;32m     84\u001b[0m     options,\n\u001b[0;32m     85\u001b[0m     service_args,\n\u001b[0;32m     86\u001b[0m     desired_capabilities,\n\u001b[0;32m     87\u001b[0m     service_log_path,\n\u001b[0;32m     88\u001b[0m     service,\n\u001b[0;32m     89\u001b[0m     keep_alive,\n\u001b[0;32m     90\u001b[0m )\n",
      "File \u001b[1;32m~\\AppData\\Local\\Packages\\PythonSoftwareFoundation.Python.3.10_qbz5n2kfra8p0\\LocalCache\\local-packages\\Python310\\site-packages\\selenium\\webdriver\\chromium\\webdriver.py:104\u001b[0m, in \u001b[0;36mChromiumDriver.__init__\u001b[1;34m(self, browser_name, vendor_prefix, port, options, service_args, desired_capabilities, service_log_path, service, keep_alive)\u001b[0m\n\u001b[0;32m    101\u001b[0m \u001b[39mself\u001b[39m\u001b[39m.\u001b[39mservice\u001b[39m.\u001b[39mstart()\n\u001b[0;32m    103\u001b[0m \u001b[39mtry\u001b[39;00m:\n\u001b[1;32m--> 104\u001b[0m     \u001b[39msuper\u001b[39;49m()\u001b[39m.\u001b[39;49m\u001b[39m__init__\u001b[39;49m(\n\u001b[0;32m    105\u001b[0m         command_executor\u001b[39m=\u001b[39;49mChromiumRemoteConnection(\n\u001b[0;32m    106\u001b[0m             remote_server_addr\u001b[39m=\u001b[39;49m\u001b[39mself\u001b[39;49m\u001b[39m.\u001b[39;49mservice\u001b[39m.\u001b[39;49mservice_url,\n\u001b[0;32m    107\u001b[0m             browser_name\u001b[39m=\u001b[39;49mbrowser_name,\n\u001b[0;32m    108\u001b[0m             vendor_prefix\u001b[39m=\u001b[39;49mvendor_prefix,\n\u001b[0;32m    109\u001b[0m             keep_alive\u001b[39m=\u001b[39;49mkeep_alive,\n\u001b[0;32m    110\u001b[0m             ignore_proxy\u001b[39m=\u001b[39;49m_ignore_proxy,\n\u001b[0;32m    111\u001b[0m         ),\n\u001b[0;32m    112\u001b[0m         options\u001b[39m=\u001b[39;49moptions,\n\u001b[0;32m    113\u001b[0m     )\n\u001b[0;32m    114\u001b[0m \u001b[39mexcept\u001b[39;00m \u001b[39mException\u001b[39;00m:\n\u001b[0;32m    115\u001b[0m     \u001b[39mself\u001b[39m\u001b[39m.\u001b[39mquit()\n",
      "File \u001b[1;32m~\\AppData\\Local\\Packages\\PythonSoftwareFoundation.Python.3.10_qbz5n2kfra8p0\\LocalCache\\local-packages\\Python310\\site-packages\\selenium\\webdriver\\remote\\webdriver.py:286\u001b[0m, in \u001b[0;36mWebDriver.__init__\u001b[1;34m(self, command_executor, desired_capabilities, browser_profile, proxy, keep_alive, file_detector, options)\u001b[0m\n\u001b[0;32m    284\u001b[0m \u001b[39mself\u001b[39m\u001b[39m.\u001b[39m_authenticator_id \u001b[39m=\u001b[39m \u001b[39mNone\u001b[39;00m\n\u001b[0;32m    285\u001b[0m \u001b[39mself\u001b[39m\u001b[39m.\u001b[39mstart_client()\n\u001b[1;32m--> 286\u001b[0m \u001b[39mself\u001b[39;49m\u001b[39m.\u001b[39;49mstart_session(capabilities, browser_profile)\n",
      "File \u001b[1;32m~\\AppData\\Local\\Packages\\PythonSoftwareFoundation.Python.3.10_qbz5n2kfra8p0\\LocalCache\\local-packages\\Python310\\site-packages\\selenium\\webdriver\\remote\\webdriver.py:378\u001b[0m, in \u001b[0;36mWebDriver.start_session\u001b[1;34m(self, capabilities, browser_profile)\u001b[0m\n\u001b[0;32m    376\u001b[0m w3c_caps \u001b[39m=\u001b[39m _make_w3c_caps(capabilities)\n\u001b[0;32m    377\u001b[0m parameters \u001b[39m=\u001b[39m {\u001b[39m\"\u001b[39m\u001b[39mcapabilities\u001b[39m\u001b[39m\"\u001b[39m: w3c_caps}\n\u001b[1;32m--> 378\u001b[0m response \u001b[39m=\u001b[39m \u001b[39mself\u001b[39;49m\u001b[39m.\u001b[39;49mexecute(Command\u001b[39m.\u001b[39;49mNEW_SESSION, parameters)\n\u001b[0;32m    379\u001b[0m \u001b[39mif\u001b[39;00m \u001b[39m\"\u001b[39m\u001b[39msessionId\u001b[39m\u001b[39m\"\u001b[39m \u001b[39mnot\u001b[39;00m \u001b[39min\u001b[39;00m response:\n\u001b[0;32m    380\u001b[0m     response \u001b[39m=\u001b[39m response[\u001b[39m\"\u001b[39m\u001b[39mvalue\u001b[39m\u001b[39m\"\u001b[39m]\n",
      "File \u001b[1;32m~\\AppData\\Local\\Packages\\PythonSoftwareFoundation.Python.3.10_qbz5n2kfra8p0\\LocalCache\\local-packages\\Python310\\site-packages\\selenium\\webdriver\\remote\\webdriver.py:440\u001b[0m, in \u001b[0;36mWebDriver.execute\u001b[1;34m(self, driver_command, params)\u001b[0m\n\u001b[0;32m    438\u001b[0m response \u001b[39m=\u001b[39m \u001b[39mself\u001b[39m\u001b[39m.\u001b[39mcommand_executor\u001b[39m.\u001b[39mexecute(driver_command, params)\n\u001b[0;32m    439\u001b[0m \u001b[39mif\u001b[39;00m response:\n\u001b[1;32m--> 440\u001b[0m     \u001b[39mself\u001b[39;49m\u001b[39m.\u001b[39;49merror_handler\u001b[39m.\u001b[39;49mcheck_response(response)\n\u001b[0;32m    441\u001b[0m     response[\u001b[39m\"\u001b[39m\u001b[39mvalue\u001b[39m\u001b[39m\"\u001b[39m] \u001b[39m=\u001b[39m \u001b[39mself\u001b[39m\u001b[39m.\u001b[39m_unwrap_value(response\u001b[39m.\u001b[39mget(\u001b[39m\"\u001b[39m\u001b[39mvalue\u001b[39m\u001b[39m\"\u001b[39m, \u001b[39mNone\u001b[39;00m))\n\u001b[0;32m    442\u001b[0m     \u001b[39mreturn\u001b[39;00m response\n",
      "File \u001b[1;32m~\\AppData\\Local\\Packages\\PythonSoftwareFoundation.Python.3.10_qbz5n2kfra8p0\\LocalCache\\local-packages\\Python310\\site-packages\\selenium\\webdriver\\remote\\errorhandler.py:245\u001b[0m, in \u001b[0;36mErrorHandler.check_response\u001b[1;34m(self, response)\u001b[0m\n\u001b[0;32m    243\u001b[0m         alert_text \u001b[39m=\u001b[39m value[\u001b[39m\"\u001b[39m\u001b[39malert\u001b[39m\u001b[39m\"\u001b[39m]\u001b[39m.\u001b[39mget(\u001b[39m\"\u001b[39m\u001b[39mtext\u001b[39m\u001b[39m\"\u001b[39m)\n\u001b[0;32m    244\u001b[0m     \u001b[39mraise\u001b[39;00m exception_class(message, screen, stacktrace, alert_text)  \u001b[39m# type: ignore[call-arg]  # mypy is not smart enough here\u001b[39;00m\n\u001b[1;32m--> 245\u001b[0m \u001b[39mraise\u001b[39;00m exception_class(message, screen, stacktrace)\n",
      "\u001b[1;31mWebDriverException\u001b[0m: Message: unknown error: Chrome failed to start: exited normally.\n  (unknown error: DevToolsActivePort file doesn't exist)\n  (The process started from chrome location C:\\Program Files\\Google\\Chrome\\Application\\chrome.exe is no longer running, so ChromeDriver is assuming that Chrome has crashed.)\nStacktrace:\nBacktrace:\n\t(No symbol) [0x0050DCE3]\n\t(No symbol) [0x004A39D1]\n\t(No symbol) [0x003B4DA8]\n\t(No symbol) [0x003D20BC]\n\t(No symbol) [0x003CED19]\n\t(No symbol) [0x004015AE]\n\t(No symbol) [0x0040129C]\n\t(No symbol) [0x003FACC6]\n\t(No symbol) [0x003D6F68]\n\t(No symbol) [0x003D80CD]\n\tGetHandleVerifier [0x00783832+2506274]\n\tGetHandleVerifier [0x007B9794+2727300]\n\tGetHandleVerifier [0x007BE36C+2746716]\n\tGetHandleVerifier [0x005B6690+617600]\n\t(No symbol) [0x004AC712]\n\t(No symbol) [0x004B1FF8]\n\t(No symbol) [0x004B20DB]\n\t(No symbol) [0x004BC63B]\n\tBaseThreadInitThunk [0x753000F9+25]\n\tRtlGetAppContainerNamedObjectPath [0x77157BBE+286]\n\tRtlGetAppContainerNamedObjectPath [0x77157B8E+238]\n"
     ]
    }
   ],
   "source": [
    "from selenium import webdriver\n",
    "\n",
    "options = webdriver.ChromeOptions()\n",
    "options.add_argument(r\"user-data-dir=C:/Users/Admin/AppData/Local/Google/Chrome/User Data\")\n",
    "# chromedriver_path = 'D:\\AAdownloadse\\downloads\\chromedriver_win32\\chromedriver.exe'\n",
    "driver = webdriver.Chrome(executable_path=chromedriver_path, options=options)\n",
    "driver.get(\"https://www.google.com\")\n"
   ]
  },
  {
   "cell_type": "code",
   "execution_count": 104,
   "metadata": {},
   "outputs": [],
   "source": [
    "temp_chrome()"
   ]
  },
  {
   "cell_type": "code",
   "execution_count": 32,
   "metadata": {},
   "outputs": [
    {
     "name": "stdout",
     "output_type": "stream",
     "text": [
      "You said: Dog\n"
     ]
    },
    {
     "ename": "NoSuchWindowException",
     "evalue": "Message: no such window: target window already closed\nfrom unknown error: web view not found\n  (Session info: chrome=111.0.5563.111)\nStacktrace:\nBacktrace:\n\t(No symbol) [0x0050DCE3]\n\t(No symbol) [0x004A39D1]\n\t(No symbol) [0x003B4DA8]\n\t(No symbol) [0x0039D0D3]\n\t(No symbol) [0x003FEA8B]\n\t(No symbol) [0x0040D093]\n\t(No symbol) [0x003FACC6]\n\t(No symbol) [0x003D6F68]\n\t(No symbol) [0x003D80CD]\n\tGetHandleVerifier [0x00783832+2506274]\n\tGetHandleVerifier [0x007B9794+2727300]\n\tGetHandleVerifier [0x007BE36C+2746716]\n\tGetHandleVerifier [0x005B6690+617600]\n\t(No symbol) [0x004AC712]\n\t(No symbol) [0x004B1FF8]\n\t(No symbol) [0x004B20DB]\n\t(No symbol) [0x004BC63B]\n\tBaseThreadInitThunk [0x753000F9+25]\n\tRtlGetAppContainerNamedObjectPath [0x77157BBE+286]\n\tRtlGetAppContainerNamedObjectPath [0x77157B8E+238]\n",
     "output_type": "error",
     "traceback": [
      "\u001b[1;31m---------------------------------------------------------------------------\u001b[0m",
      "\u001b[1;31mNoSuchWindowException\u001b[0m                     Traceback (most recent call last)",
      "Cell \u001b[1;32mIn[32], line 84\u001b[0m\n\u001b[0;32m     79\u001b[0m driver\u001b[39m.\u001b[39mback()\n\u001b[0;32m     82\u001b[0m     \u001b[39m# Find and click on the search result that contains the word 'cat'\u001b[39;00m\n\u001b[0;32m     83\u001b[0m \u001b[39m# search_results = driver.find_elements_by_css_selector('h3')\u001b[39;00m\n\u001b[1;32m---> 84\u001b[0m search_results \u001b[39m=\u001b[39m WebDriverWait(driver, \u001b[39m20\u001b[39;49m)\u001b[39m.\u001b[39;49muntil(EC\u001b[39m.\u001b[39;49mvisibility_of_element_located((By\u001b[39m.\u001b[39;49mCSS_SELECTOR, \u001b[39m'\u001b[39;49m\u001b[39mh3\u001b[39;49m\u001b[39m'\u001b[39;49m)))\n\u001b[0;32m     85\u001b[0m \u001b[39mfor\u001b[39;00m link \u001b[39min\u001b[39;00m search_results:\n\u001b[0;32m     86\u001b[0m     \u001b[39mprint\u001b[39m(link\u001b[39m.\u001b[39mtext)\n",
      "File \u001b[1;32m~\\AppData\\Local\\Packages\\PythonSoftwareFoundation.Python.3.10_qbz5n2kfra8p0\\LocalCache\\local-packages\\Python310\\site-packages\\selenium\\webdriver\\support\\wait.py:86\u001b[0m, in \u001b[0;36mWebDriverWait.until\u001b[1;34m(self, method, message)\u001b[0m\n\u001b[0;32m     84\u001b[0m \u001b[39mwhile\u001b[39;00m \u001b[39mTrue\u001b[39;00m:\n\u001b[0;32m     85\u001b[0m     \u001b[39mtry\u001b[39;00m:\n\u001b[1;32m---> 86\u001b[0m         value \u001b[39m=\u001b[39m method(\u001b[39mself\u001b[39;49m\u001b[39m.\u001b[39;49m_driver)\n\u001b[0;32m     87\u001b[0m         \u001b[39mif\u001b[39;00m value:\n\u001b[0;32m     88\u001b[0m             \u001b[39mreturn\u001b[39;00m value\n",
      "File \u001b[1;32m~\\AppData\\Local\\Packages\\PythonSoftwareFoundation.Python.3.10_qbz5n2kfra8p0\\LocalCache\\local-packages\\Python310\\site-packages\\selenium\\webdriver\\support\\expected_conditions.py:139\u001b[0m, in \u001b[0;36mvisibility_of_element_located.<locals>._predicate\u001b[1;34m(driver)\u001b[0m\n\u001b[0;32m    137\u001b[0m \u001b[39mdef\u001b[39;00m \u001b[39m_predicate\u001b[39m(driver):\n\u001b[0;32m    138\u001b[0m     \u001b[39mtry\u001b[39;00m:\n\u001b[1;32m--> 139\u001b[0m         \u001b[39mreturn\u001b[39;00m _element_if_visible(driver\u001b[39m.\u001b[39;49mfind_element(\u001b[39m*\u001b[39;49mlocator))\n\u001b[0;32m    140\u001b[0m     \u001b[39mexcept\u001b[39;00m StaleElementReferenceException:\n\u001b[0;32m    141\u001b[0m         \u001b[39mreturn\u001b[39;00m \u001b[39mFalse\u001b[39;00m\n",
      "File \u001b[1;32m~\\AppData\\Local\\Packages\\PythonSoftwareFoundation.Python.3.10_qbz5n2kfra8p0\\LocalCache\\local-packages\\Python310\\site-packages\\selenium\\webdriver\\remote\\webdriver.py:830\u001b[0m, in \u001b[0;36mWebDriver.find_element\u001b[1;34m(self, by, value)\u001b[0m\n\u001b[0;32m    827\u001b[0m     by \u001b[39m=\u001b[39m By\u001b[39m.\u001b[39mCSS_SELECTOR\n\u001b[0;32m    828\u001b[0m     value \u001b[39m=\u001b[39m \u001b[39mf\u001b[39m\u001b[39m'\u001b[39m\u001b[39m[name=\u001b[39m\u001b[39m\"\u001b[39m\u001b[39m{\u001b[39;00mvalue\u001b[39m}\u001b[39;00m\u001b[39m\"\u001b[39m\u001b[39m]\u001b[39m\u001b[39m'\u001b[39m\n\u001b[1;32m--> 830\u001b[0m \u001b[39mreturn\u001b[39;00m \u001b[39mself\u001b[39;49m\u001b[39m.\u001b[39;49mexecute(Command\u001b[39m.\u001b[39;49mFIND_ELEMENT, {\u001b[39m\"\u001b[39;49m\u001b[39musing\u001b[39;49m\u001b[39m\"\u001b[39;49m: by, \u001b[39m\"\u001b[39;49m\u001b[39mvalue\u001b[39;49m\u001b[39m\"\u001b[39;49m: value})[\u001b[39m\"\u001b[39m\u001b[39mvalue\u001b[39m\u001b[39m\"\u001b[39m]\n",
      "File \u001b[1;32m~\\AppData\\Local\\Packages\\PythonSoftwareFoundation.Python.3.10_qbz5n2kfra8p0\\LocalCache\\local-packages\\Python310\\site-packages\\selenium\\webdriver\\remote\\webdriver.py:440\u001b[0m, in \u001b[0;36mWebDriver.execute\u001b[1;34m(self, driver_command, params)\u001b[0m\n\u001b[0;32m    438\u001b[0m response \u001b[39m=\u001b[39m \u001b[39mself\u001b[39m\u001b[39m.\u001b[39mcommand_executor\u001b[39m.\u001b[39mexecute(driver_command, params)\n\u001b[0;32m    439\u001b[0m \u001b[39mif\u001b[39;00m response:\n\u001b[1;32m--> 440\u001b[0m     \u001b[39mself\u001b[39;49m\u001b[39m.\u001b[39;49merror_handler\u001b[39m.\u001b[39;49mcheck_response(response)\n\u001b[0;32m    441\u001b[0m     response[\u001b[39m\"\u001b[39m\u001b[39mvalue\u001b[39m\u001b[39m\"\u001b[39m] \u001b[39m=\u001b[39m \u001b[39mself\u001b[39m\u001b[39m.\u001b[39m_unwrap_value(response\u001b[39m.\u001b[39mget(\u001b[39m\"\u001b[39m\u001b[39mvalue\u001b[39m\u001b[39m\"\u001b[39m, \u001b[39mNone\u001b[39;00m))\n\u001b[0;32m    442\u001b[0m     \u001b[39mreturn\u001b[39;00m response\n",
      "File \u001b[1;32m~\\AppData\\Local\\Packages\\PythonSoftwareFoundation.Python.3.10_qbz5n2kfra8p0\\LocalCache\\local-packages\\Python310\\site-packages\\selenium\\webdriver\\remote\\errorhandler.py:245\u001b[0m, in \u001b[0;36mErrorHandler.check_response\u001b[1;34m(self, response)\u001b[0m\n\u001b[0;32m    243\u001b[0m         alert_text \u001b[39m=\u001b[39m value[\u001b[39m\"\u001b[39m\u001b[39malert\u001b[39m\u001b[39m\"\u001b[39m]\u001b[39m.\u001b[39mget(\u001b[39m\"\u001b[39m\u001b[39mtext\u001b[39m\u001b[39m\"\u001b[39m)\n\u001b[0;32m    244\u001b[0m     \u001b[39mraise\u001b[39;00m exception_class(message, screen, stacktrace, alert_text)  \u001b[39m# type: ignore[call-arg]  # mypy is not smart enough here\u001b[39;00m\n\u001b[1;32m--> 245\u001b[0m \u001b[39mraise\u001b[39;00m exception_class(message, screen, stacktrace)\n",
      "\u001b[1;31mNoSuchWindowException\u001b[0m: Message: no such window: target window already closed\nfrom unknown error: web view not found\n  (Session info: chrome=111.0.5563.111)\nStacktrace:\nBacktrace:\n\t(No symbol) [0x0050DCE3]\n\t(No symbol) [0x004A39D1]\n\t(No symbol) [0x003B4DA8]\n\t(No symbol) [0x0039D0D3]\n\t(No symbol) [0x003FEA8B]\n\t(No symbol) [0x0040D093]\n\t(No symbol) [0x003FACC6]\n\t(No symbol) [0x003D6F68]\n\t(No symbol) [0x003D80CD]\n\tGetHandleVerifier [0x00783832+2506274]\n\tGetHandleVerifier [0x007B9794+2727300]\n\tGetHandleVerifier [0x007BE36C+2746716]\n\tGetHandleVerifier [0x005B6690+617600]\n\t(No symbol) [0x004AC712]\n\t(No symbol) [0x004B1FF8]\n\t(No symbol) [0x004B20DB]\n\t(No symbol) [0x004BC63B]\n\tBaseThreadInitThunk [0x753000F9+25]\n\tRtlGetAppContainerNamedObjectPath [0x77157BBE+286]\n\tRtlGetAppContainerNamedObjectPath [0x77157B8E+238]\n"
     ]
    }
   ],
   "source": [
    "import speech_recognition as sr\n",
    "from selenium import webdriver\n",
    "from selenium.webdriver.common.keys import Keys\n",
    "from selenium.webdriver.chrome.options import Options\n",
    "from selenium.webdriver.common.by import By\n",
    "from selenium.webdriver.support.ui import WebDriverWait\n",
    "from selenium.webdriver.support import expected_conditions as EC\n",
    "import time\n",
    "\n",
    "\n",
    "# # initialize the speech recognizer\n",
    "# r = sr.Recognizer()\n",
    "\n",
    "\n",
    "# open the web browser and go to Google search\n",
    "chrome_options = Options()\n",
    "chrome_options.add_argument(\"--disable-extensions\")\n",
    "driver = webdriver.Chrome(options=chrome_options)\n",
    "driver.get(\"https://www.google.com\")\n",
    "\n",
    "\n",
    "# # wait for the page to load\n",
    "# driver.implicitly_wait(10)\n",
    "\n",
    "\n",
    "# # recognize the user's voice input\n",
    "# with sr.Microphone() as source:\n",
    "#     print(\"Say a search query:\")\n",
    "#     audio = r.listen(source)\n",
    "   \n",
    "try:\n",
    "    # convert the user's voice input to text\n",
    "    # query = r.recognize_google(audio)\n",
    "    query = \"Dog\"\n",
    "    print(f\"You said: {query}\")\n",
    "   \n",
    "    # find the search box and enter the query\n",
    "    search_box = driver.find_element(\"name\",\"q\")\n",
    "    search_box.send_keys(query)\n",
    "    search_box.send_keys(Keys.RETURN)\n",
    "   \n",
    "    # wait for the search results to load\n",
    "    # WebDriverWait(driver, 10).until(EC.presence_of_element_located((By.XPATH, \"//div[@class='r']/a\")))\n",
    "   \n",
    "    # # get the first search result and click it\n",
    "    # search_results = driver.find_elements(\"xpath\", \"//div[@class='r']/a\")\n",
    "    # search_results.click()\n",
    "       \n",
    "    # Click on the first search result link\n",
    "    # first_result = driver.find_element_by_css_selector(\"div.r a\")\n",
    "    # first_result = driver.find_element(By.CSS_SELECTOR,\"div.r a\")\n",
    "    # first_result.click()\n",
    "   \n",
    "    from selenium.webdriver.common.by import By\n",
    "    from selenium.webdriver.support.ui import WebDriverWait\n",
    "    from selenium.webdriver.support import expected_conditions as EC\n",
    "\n",
    "\n",
    "    try:\n",
    "        # Wait for the search results page to load and click on the first search result link\n",
    "        # wait = WebDriverWait(driver, 20)\n",
    "        element = WebDriverWait(driver, 20).until(EC.visibility_of_element_located((By.CSS_SELECTOR, 'h3')))\n",
    "        element.click()\n",
    "    except TimeOutException:\n",
    "        print(\"Timed out waiting for page to load\")\n",
    "\n",
    "\n",
    "\n",
    "\n",
    "\n",
    "\n",
    "except sr.UnknownValueError:\n",
    "    print(\"Sorry, I did not understand your query.\")\n",
    "   \n",
    "except sr.RequestError as e:\n",
    "    print(\"Sorry, could not request results from Google Speech Recognition service; {0}\".format(e))\n",
    "   \n",
    "time.sleep(5)  # Wait for 5 seconds for the new page to load\n",
    "driver.back()\n",
    "\n",
    "\n",
    "    # Find and click on the search result that contains the word 'cat'\n",
    "# search_results = driver.find_elements_by_css_selector('h3')\n",
    "search_results = WebDriverWait(driver, 20).until(EC.visibility_of_element_located((By.CSS_SELECTOR, 'h3')))\n",
    "for link in search_results:\n",
    "    print(link.text)\n",
    "    # if 'History' in result.text.lower():\n",
    "    #     result.find_element_by_css_selector('a').click()\n",
    "    #     break\n"
   ]
  },
  {
   "cell_type": "code",
   "execution_count": 17,
   "metadata": {},
   "outputs": [
    {
     "ename": "OSError",
     "evalue": "microsoft/visual_chatgpt is not a local folder and is not a valid model identifier listed on 'https://huggingface.co/models'\nIf this is a private repository, make sure to pass a token having permission to this repo with `use_auth_token` or log in with `huggingface-cli login` and pass `use_auth_token=True`.",
     "output_type": "error",
     "traceback": [
      "\u001b[1;31m---------------------------------------------------------------------------\u001b[0m",
      "\u001b[1;31mHTTPError\u001b[0m                                 Traceback (most recent call last)",
      "File \u001b[1;32m~\\AppData\\Local\\Packages\\PythonSoftwareFoundation.Python.3.10_qbz5n2kfra8p0\\LocalCache\\local-packages\\Python310\\site-packages\\huggingface_hub\\utils\\_errors.py:259\u001b[0m, in \u001b[0;36mhf_raise_for_status\u001b[1;34m(response, endpoint_name)\u001b[0m\n\u001b[0;32m    258\u001b[0m \u001b[39mtry\u001b[39;00m:\n\u001b[1;32m--> 259\u001b[0m     response\u001b[39m.\u001b[39;49mraise_for_status()\n\u001b[0;32m    260\u001b[0m \u001b[39mexcept\u001b[39;00m HTTPError \u001b[39mas\u001b[39;00m e:\n",
      "File \u001b[1;32m~\\AppData\\Local\\Packages\\PythonSoftwareFoundation.Python.3.10_qbz5n2kfra8p0\\LocalCache\\local-packages\\Python310\\site-packages\\requests\\models.py:1021\u001b[0m, in \u001b[0;36mResponse.raise_for_status\u001b[1;34m(self)\u001b[0m\n\u001b[0;32m   1020\u001b[0m \u001b[39mif\u001b[39;00m http_error_msg:\n\u001b[1;32m-> 1021\u001b[0m     \u001b[39mraise\u001b[39;00m HTTPError(http_error_msg, response\u001b[39m=\u001b[39m\u001b[39mself\u001b[39m)\n",
      "\u001b[1;31mHTTPError\u001b[0m: 401 Client Error: Unauthorized for url: https://huggingface.co/microsoft/visual_chatgpt/resolve/main/tokenizer_config.json",
      "\nThe above exception was the direct cause of the following exception:\n",
      "\u001b[1;31mRepositoryNotFoundError\u001b[0m                   Traceback (most recent call last)",
      "File \u001b[1;32m~\\AppData\\Local\\Packages\\PythonSoftwareFoundation.Python.3.10_qbz5n2kfra8p0\\LocalCache\\local-packages\\Python310\\site-packages\\transformers\\utils\\hub.py:409\u001b[0m, in \u001b[0;36mcached_file\u001b[1;34m(path_or_repo_id, filename, cache_dir, force_download, resume_download, proxies, use_auth_token, revision, local_files_only, subfolder, user_agent, _raise_exceptions_for_missing_entries, _raise_exceptions_for_connection_errors, _commit_hash)\u001b[0m\n\u001b[0;32m    407\u001b[0m \u001b[39mtry\u001b[39;00m:\n\u001b[0;32m    408\u001b[0m     \u001b[39m# Load from URL or cache if already cached\u001b[39;00m\n\u001b[1;32m--> 409\u001b[0m     resolved_file \u001b[39m=\u001b[39m hf_hub_download(\n\u001b[0;32m    410\u001b[0m         path_or_repo_id,\n\u001b[0;32m    411\u001b[0m         filename,\n\u001b[0;32m    412\u001b[0m         subfolder\u001b[39m=\u001b[39;49m\u001b[39mNone\u001b[39;49;00m \u001b[39mif\u001b[39;49;00m \u001b[39mlen\u001b[39;49m(subfolder) \u001b[39m==\u001b[39;49m \u001b[39m0\u001b[39;49m \u001b[39melse\u001b[39;49;00m subfolder,\n\u001b[0;32m    413\u001b[0m         revision\u001b[39m=\u001b[39;49mrevision,\n\u001b[0;32m    414\u001b[0m         cache_dir\u001b[39m=\u001b[39;49mcache_dir,\n\u001b[0;32m    415\u001b[0m         user_agent\u001b[39m=\u001b[39;49muser_agent,\n\u001b[0;32m    416\u001b[0m         force_download\u001b[39m=\u001b[39;49mforce_download,\n\u001b[0;32m    417\u001b[0m         proxies\u001b[39m=\u001b[39;49mproxies,\n\u001b[0;32m    418\u001b[0m         resume_download\u001b[39m=\u001b[39;49mresume_download,\n\u001b[0;32m    419\u001b[0m         use_auth_token\u001b[39m=\u001b[39;49muse_auth_token,\n\u001b[0;32m    420\u001b[0m         local_files_only\u001b[39m=\u001b[39;49mlocal_files_only,\n\u001b[0;32m    421\u001b[0m     )\n\u001b[0;32m    423\u001b[0m \u001b[39mexcept\u001b[39;00m RepositoryNotFoundError:\n",
      "File \u001b[1;32m~\\AppData\\Local\\Packages\\PythonSoftwareFoundation.Python.3.10_qbz5n2kfra8p0\\LocalCache\\local-packages\\Python310\\site-packages\\huggingface_hub\\utils\\_validators.py:120\u001b[0m, in \u001b[0;36mvalidate_hf_hub_args.<locals>._inner_fn\u001b[1;34m(*args, **kwargs)\u001b[0m\n\u001b[0;32m    118\u001b[0m     kwargs \u001b[39m=\u001b[39m smoothly_deprecate_use_auth_token(fn_name\u001b[39m=\u001b[39mfn\u001b[39m.\u001b[39m\u001b[39m__name__\u001b[39m, has_token\u001b[39m=\u001b[39mhas_token, kwargs\u001b[39m=\u001b[39mkwargs)\n\u001b[1;32m--> 120\u001b[0m \u001b[39mreturn\u001b[39;00m fn(\u001b[39m*\u001b[39margs, \u001b[39m*\u001b[39m\u001b[39m*\u001b[39mkwargs)\n",
      "File \u001b[1;32m~\\AppData\\Local\\Packages\\PythonSoftwareFoundation.Python.3.10_qbz5n2kfra8p0\\LocalCache\\local-packages\\Python310\\site-packages\\huggingface_hub\\file_download.py:1160\u001b[0m, in \u001b[0;36mhf_hub_download\u001b[1;34m(repo_id, filename, subfolder, repo_type, revision, library_name, library_version, cache_dir, local_dir, local_dir_use_symlinks, user_agent, force_download, force_filename, proxies, etag_timeout, resume_download, token, local_files_only, legacy_cache_layout)\u001b[0m\n\u001b[0;32m   1159\u001b[0m \u001b[39mtry\u001b[39;00m:\n\u001b[1;32m-> 1160\u001b[0m     metadata \u001b[39m=\u001b[39m get_hf_file_metadata(\n\u001b[0;32m   1161\u001b[0m         url\u001b[39m=\u001b[39;49murl,\n\u001b[0;32m   1162\u001b[0m         token\u001b[39m=\u001b[39;49mtoken,\n\u001b[0;32m   1163\u001b[0m         proxies\u001b[39m=\u001b[39;49mproxies,\n\u001b[0;32m   1164\u001b[0m         timeout\u001b[39m=\u001b[39;49metag_timeout,\n\u001b[0;32m   1165\u001b[0m     )\n\u001b[0;32m   1166\u001b[0m \u001b[39mexcept\u001b[39;00m EntryNotFoundError \u001b[39mas\u001b[39;00m http_error:\n\u001b[0;32m   1167\u001b[0m     \u001b[39m# Cache the non-existence of the file and raise\u001b[39;00m\n",
      "File \u001b[1;32m~\\AppData\\Local\\Packages\\PythonSoftwareFoundation.Python.3.10_qbz5n2kfra8p0\\LocalCache\\local-packages\\Python310\\site-packages\\huggingface_hub\\utils\\_validators.py:120\u001b[0m, in \u001b[0;36mvalidate_hf_hub_args.<locals>._inner_fn\u001b[1;34m(*args, **kwargs)\u001b[0m\n\u001b[0;32m    118\u001b[0m     kwargs \u001b[39m=\u001b[39m smoothly_deprecate_use_auth_token(fn_name\u001b[39m=\u001b[39mfn\u001b[39m.\u001b[39m\u001b[39m__name__\u001b[39m, has_token\u001b[39m=\u001b[39mhas_token, kwargs\u001b[39m=\u001b[39mkwargs)\n\u001b[1;32m--> 120\u001b[0m \u001b[39mreturn\u001b[39;00m fn(\u001b[39m*\u001b[39margs, \u001b[39m*\u001b[39m\u001b[39m*\u001b[39mkwargs)\n",
      "File \u001b[1;32m~\\AppData\\Local\\Packages\\PythonSoftwareFoundation.Python.3.10_qbz5n2kfra8p0\\LocalCache\\local-packages\\Python310\\site-packages\\huggingface_hub\\file_download.py:1501\u001b[0m, in \u001b[0;36mget_hf_file_metadata\u001b[1;34m(url, token, proxies, timeout)\u001b[0m\n\u001b[0;32m   1492\u001b[0m r \u001b[39m=\u001b[39m _request_wrapper(\n\u001b[0;32m   1493\u001b[0m     method\u001b[39m=\u001b[39m\u001b[39m\"\u001b[39m\u001b[39mHEAD\u001b[39m\u001b[39m\"\u001b[39m,\n\u001b[0;32m   1494\u001b[0m     url\u001b[39m=\u001b[39murl,\n\u001b[1;32m   (...)\u001b[0m\n\u001b[0;32m   1499\u001b[0m     timeout\u001b[39m=\u001b[39mtimeout,\n\u001b[0;32m   1500\u001b[0m )\n\u001b[1;32m-> 1501\u001b[0m hf_raise_for_status(r)\n\u001b[0;32m   1503\u001b[0m \u001b[39m# Return\u001b[39;00m\n",
      "File \u001b[1;32m~\\AppData\\Local\\Packages\\PythonSoftwareFoundation.Python.3.10_qbz5n2kfra8p0\\LocalCache\\local-packages\\Python310\\site-packages\\huggingface_hub\\utils\\_errors.py:291\u001b[0m, in \u001b[0;36mhf_raise_for_status\u001b[1;34m(response, endpoint_name)\u001b[0m\n\u001b[0;32m    283\u001b[0m     message \u001b[39m=\u001b[39m (\n\u001b[0;32m    284\u001b[0m         \u001b[39mf\u001b[39m\u001b[39m\"\u001b[39m\u001b[39m{\u001b[39;00mresponse\u001b[39m.\u001b[39mstatus_code\u001b[39m}\u001b[39;00m\u001b[39m Client Error.\u001b[39m\u001b[39m\"\u001b[39m\n\u001b[0;32m    285\u001b[0m         \u001b[39m+\u001b[39m \u001b[39m\"\u001b[39m\u001b[39m\\n\u001b[39;00m\u001b[39m\\n\u001b[39;00m\u001b[39m\"\u001b[39m\n\u001b[1;32m   (...)\u001b[0m\n\u001b[0;32m    289\u001b[0m         \u001b[39m\"\u001b[39m\u001b[39m make sure you are authenticated.\u001b[39m\u001b[39m\"\u001b[39m\n\u001b[0;32m    290\u001b[0m     )\n\u001b[1;32m--> 291\u001b[0m     \u001b[39mraise\u001b[39;00m RepositoryNotFoundError(message, response) \u001b[39mfrom\u001b[39;00m \u001b[39me\u001b[39;00m\n\u001b[0;32m    293\u001b[0m \u001b[39melif\u001b[39;00m response\u001b[39m.\u001b[39mstatus_code \u001b[39m==\u001b[39m \u001b[39m400\u001b[39m:\n",
      "\u001b[1;31mRepositoryNotFoundError\u001b[0m: 401 Client Error. (Request ID: Root=1-6420092a-003554261f4cc3464d19adee)\n\nRepository Not Found for url: https://huggingface.co/microsoft/visual_chatgpt/resolve/main/tokenizer_config.json.\nPlease make sure you specified the correct `repo_id` and `repo_type`.\nIf you are trying to access a private or gated repo, make sure you are authenticated.\nInvalid username or password.",
      "\nDuring handling of the above exception, another exception occurred:\n",
      "\u001b[1;31mOSError\u001b[0m                                   Traceback (most recent call last)",
      "Cell \u001b[1;32mIn[17], line 4\u001b[0m\n\u001b[0;32m      1\u001b[0m \u001b[39mfrom\u001b[39;00m \u001b[39mtransformers\u001b[39;00m \u001b[39mimport\u001b[39;00m AutoTokenizer\n\u001b[0;32m      3\u001b[0m \u001b[39m# Download a tokenizer from Hugging Face\u001b[39;00m\n\u001b[1;32m----> 4\u001b[0m tokenizer \u001b[39m=\u001b[39m AutoTokenizer\u001b[39m.\u001b[39;49mfrom_pretrained(\u001b[39m\"\u001b[39;49m\u001b[39mmicrosoft/visual_chatgpt\u001b[39;49m\u001b[39m\"\u001b[39;49m)\n\u001b[0;32m      6\u001b[0m \u001b[39m# Tokenize a sentence\u001b[39;00m\n\u001b[0;32m      7\u001b[0m text \u001b[39m=\u001b[39m \u001b[39m\"\u001b[39m\u001b[39mThis is a test sentence.\u001b[39m\u001b[39m\"\u001b[39m\n",
      "File \u001b[1;32m~\\AppData\\Local\\Packages\\PythonSoftwareFoundation.Python.3.10_qbz5n2kfra8p0\\LocalCache\\local-packages\\Python310\\site-packages\\transformers\\models\\auto\\tokenization_auto.py:619\u001b[0m, in \u001b[0;36mAutoTokenizer.from_pretrained\u001b[1;34m(cls, pretrained_model_name_or_path, *inputs, **kwargs)\u001b[0m\n\u001b[0;32m    616\u001b[0m     \u001b[39mreturn\u001b[39;00m tokenizer_class\u001b[39m.\u001b[39mfrom_pretrained(pretrained_model_name_or_path, \u001b[39m*\u001b[39minputs, \u001b[39m*\u001b[39m\u001b[39m*\u001b[39mkwargs)\n\u001b[0;32m    618\u001b[0m \u001b[39m# Next, let's try to use the tokenizer_config file to get the tokenizer class.\u001b[39;00m\n\u001b[1;32m--> 619\u001b[0m tokenizer_config \u001b[39m=\u001b[39m get_tokenizer_config(pretrained_model_name_or_path, \u001b[39m*\u001b[39m\u001b[39m*\u001b[39mkwargs)\n\u001b[0;32m    620\u001b[0m \u001b[39mif\u001b[39;00m \u001b[39m\"\u001b[39m\u001b[39m_commit_hash\u001b[39m\u001b[39m\"\u001b[39m \u001b[39min\u001b[39;00m tokenizer_config:\n\u001b[0;32m    621\u001b[0m     kwargs[\u001b[39m\"\u001b[39m\u001b[39m_commit_hash\u001b[39m\u001b[39m\"\u001b[39m] \u001b[39m=\u001b[39m tokenizer_config[\u001b[39m\"\u001b[39m\u001b[39m_commit_hash\u001b[39m\u001b[39m\"\u001b[39m]\n",
      "File \u001b[1;32m~\\AppData\\Local\\Packages\\PythonSoftwareFoundation.Python.3.10_qbz5n2kfra8p0\\LocalCache\\local-packages\\Python310\\site-packages\\transformers\\models\\auto\\tokenization_auto.py:463\u001b[0m, in \u001b[0;36mget_tokenizer_config\u001b[1;34m(pretrained_model_name_or_path, cache_dir, force_download, resume_download, proxies, use_auth_token, revision, local_files_only, subfolder, **kwargs)\u001b[0m\n\u001b[0;32m    401\u001b[0m \u001b[39m\"\"\"\u001b[39;00m\n\u001b[0;32m    402\u001b[0m \u001b[39mLoads the tokenizer configuration from a pretrained model tokenizer configuration.\u001b[39;00m\n\u001b[0;32m    403\u001b[0m \n\u001b[1;32m   (...)\u001b[0m\n\u001b[0;32m    460\u001b[0m \u001b[39mtokenizer_config = get_tokenizer_config(\"tokenizer-test\")\u001b[39;00m\n\u001b[0;32m    461\u001b[0m \u001b[39m```\"\"\"\u001b[39;00m\n\u001b[0;32m    462\u001b[0m commit_hash \u001b[39m=\u001b[39m kwargs\u001b[39m.\u001b[39mget(\u001b[39m\"\u001b[39m\u001b[39m_commit_hash\u001b[39m\u001b[39m\"\u001b[39m, \u001b[39mNone\u001b[39;00m)\n\u001b[1;32m--> 463\u001b[0m resolved_config_file \u001b[39m=\u001b[39m cached_file(\n\u001b[0;32m    464\u001b[0m     pretrained_model_name_or_path,\n\u001b[0;32m    465\u001b[0m     TOKENIZER_CONFIG_FILE,\n\u001b[0;32m    466\u001b[0m     cache_dir\u001b[39m=\u001b[39;49mcache_dir,\n\u001b[0;32m    467\u001b[0m     force_download\u001b[39m=\u001b[39;49mforce_download,\n\u001b[0;32m    468\u001b[0m     resume_download\u001b[39m=\u001b[39;49mresume_download,\n\u001b[0;32m    469\u001b[0m     proxies\u001b[39m=\u001b[39;49mproxies,\n\u001b[0;32m    470\u001b[0m     use_auth_token\u001b[39m=\u001b[39;49muse_auth_token,\n\u001b[0;32m    471\u001b[0m     revision\u001b[39m=\u001b[39;49mrevision,\n\u001b[0;32m    472\u001b[0m     local_files_only\u001b[39m=\u001b[39;49mlocal_files_only,\n\u001b[0;32m    473\u001b[0m     subfolder\u001b[39m=\u001b[39;49msubfolder,\n\u001b[0;32m    474\u001b[0m     _raise_exceptions_for_missing_entries\u001b[39m=\u001b[39;49m\u001b[39mFalse\u001b[39;49;00m,\n\u001b[0;32m    475\u001b[0m     _raise_exceptions_for_connection_errors\u001b[39m=\u001b[39;49m\u001b[39mFalse\u001b[39;49;00m,\n\u001b[0;32m    476\u001b[0m     _commit_hash\u001b[39m=\u001b[39;49mcommit_hash,\n\u001b[0;32m    477\u001b[0m )\n\u001b[0;32m    478\u001b[0m \u001b[39mif\u001b[39;00m resolved_config_file \u001b[39mis\u001b[39;00m \u001b[39mNone\u001b[39;00m:\n\u001b[0;32m    479\u001b[0m     logger\u001b[39m.\u001b[39minfo(\u001b[39m\"\u001b[39m\u001b[39mCould not locate the tokenizer configuration file, will try to use the model config instead.\u001b[39m\u001b[39m\"\u001b[39m)\n",
      "File \u001b[1;32m~\\AppData\\Local\\Packages\\PythonSoftwareFoundation.Python.3.10_qbz5n2kfra8p0\\LocalCache\\local-packages\\Python310\\site-packages\\transformers\\utils\\hub.py:424\u001b[0m, in \u001b[0;36mcached_file\u001b[1;34m(path_or_repo_id, filename, cache_dir, force_download, resume_download, proxies, use_auth_token, revision, local_files_only, subfolder, user_agent, _raise_exceptions_for_missing_entries, _raise_exceptions_for_connection_errors, _commit_hash)\u001b[0m\n\u001b[0;32m    409\u001b[0m     resolved_file \u001b[39m=\u001b[39m hf_hub_download(\n\u001b[0;32m    410\u001b[0m         path_or_repo_id,\n\u001b[0;32m    411\u001b[0m         filename,\n\u001b[1;32m   (...)\u001b[0m\n\u001b[0;32m    420\u001b[0m         local_files_only\u001b[39m=\u001b[39mlocal_files_only,\n\u001b[0;32m    421\u001b[0m     )\n\u001b[0;32m    423\u001b[0m \u001b[39mexcept\u001b[39;00m RepositoryNotFoundError:\n\u001b[1;32m--> 424\u001b[0m     \u001b[39mraise\u001b[39;00m \u001b[39mEnvironmentError\u001b[39;00m(\n\u001b[0;32m    425\u001b[0m         \u001b[39mf\u001b[39m\u001b[39m\"\u001b[39m\u001b[39m{\u001b[39;00mpath_or_repo_id\u001b[39m}\u001b[39;00m\u001b[39m is not a local folder and is not a valid model identifier \u001b[39m\u001b[39m\"\u001b[39m\n\u001b[0;32m    426\u001b[0m         \u001b[39m\"\u001b[39m\u001b[39mlisted on \u001b[39m\u001b[39m'\u001b[39m\u001b[39mhttps://huggingface.co/models\u001b[39m\u001b[39m'\u001b[39m\u001b[39m\\n\u001b[39;00m\u001b[39mIf this is a private repository, make sure to \u001b[39m\u001b[39m\"\u001b[39m\n\u001b[0;32m    427\u001b[0m         \u001b[39m\"\u001b[39m\u001b[39mpass a token having permission to this repo with `use_auth_token` or log in with \u001b[39m\u001b[39m\"\u001b[39m\n\u001b[0;32m    428\u001b[0m         \u001b[39m\"\u001b[39m\u001b[39m`huggingface-cli login` and pass `use_auth_token=True`.\u001b[39m\u001b[39m\"\u001b[39m\n\u001b[0;32m    429\u001b[0m     )\n\u001b[0;32m    430\u001b[0m \u001b[39mexcept\u001b[39;00m RevisionNotFoundError:\n\u001b[0;32m    431\u001b[0m     \u001b[39mraise\u001b[39;00m \u001b[39mEnvironmentError\u001b[39;00m(\n\u001b[0;32m    432\u001b[0m         \u001b[39mf\u001b[39m\u001b[39m\"\u001b[39m\u001b[39m{\u001b[39;00mrevision\u001b[39m}\u001b[39;00m\u001b[39m is not a valid git identifier (branch name, tag name or commit id) that exists \u001b[39m\u001b[39m\"\u001b[39m\n\u001b[0;32m    433\u001b[0m         \u001b[39m\"\u001b[39m\u001b[39mfor this model name. Check the model page at \u001b[39m\u001b[39m\"\u001b[39m\n\u001b[0;32m    434\u001b[0m         \u001b[39mf\u001b[39m\u001b[39m\"\u001b[39m\u001b[39m'\u001b[39m\u001b[39mhttps://huggingface.co/\u001b[39m\u001b[39m{\u001b[39;00mpath_or_repo_id\u001b[39m}\u001b[39;00m\u001b[39m'\u001b[39m\u001b[39m for available revisions.\u001b[39m\u001b[39m\"\u001b[39m\n\u001b[0;32m    435\u001b[0m     )\n",
      "\u001b[1;31mOSError\u001b[0m: microsoft/visual_chatgpt is not a local folder and is not a valid model identifier listed on 'https://huggingface.co/models'\nIf this is a private repository, make sure to pass a token having permission to this repo with `use_auth_token` or log in with `huggingface-cli login` and pass `use_auth_token=True`."
     ]
    }
   ],
   "source": [
    "from transformers import AutoTokenizer\n",
    "\n",
    "# Download a tokenizer from Hugging Face\n",
    "tokenizer = AutoTokenizer.from_pretrained(\"microsoft/visual_chatgpt\")\n",
    "\n",
    "# Tokenize a sentence\n",
    "text = \"This is a test sentence.\"\n",
    "tokens = tokenizer.tokenize(text)\n",
    "\n",
    "# Print the tokens\n",
    "print(tokens)\n"
   ]
  },
  {
   "cell_type": "code",
   "execution_count": null,
   "metadata": {},
   "outputs": [],
   "source": []
  },
  {
   "cell_type": "code",
   "execution_count": null,
   "metadata": {},
   "outputs": [],
   "source": []
  },
  {
   "attachments": {},
   "cell_type": "markdown",
   "metadata": {},
   "source": [
    "## Images or videos tab"
   ]
  },
  {
   "cell_type": "code",
   "execution_count": 19,
   "metadata": {},
   "outputs": [],
   "source": [
    "def clickGoogleButtons(image_list):\n",
    "    import pyautogui\n",
    "    # search for all the related images on the screen\n",
    "    matches = []\n",
    "\n",
    "    for image in image_list:\n",
    "        match = pyautogui.locateAllOnScreen(image, grayscale=True, confidence=0.8)\n",
    "        matches.extend(list(match))\n",
    "\n",
    "    # find the best match among all the locations\n",
    "    best_match = None\n",
    "    max_score = 0\n",
    "    for match in matches:\n",
    "        score = match[2]  # confidence score\n",
    "        if score > max_score:\n",
    "            best_match = match\n",
    "            max_score = score\n",
    "\n",
    "    # click on the center of the best match (if found)\n",
    "    if best_match is not None:\n",
    "        x, y, _, _ = best_match\n",
    "        center_x = x + (_ // 2)\n",
    "        center_y = y + (_ // 2)\n",
    "        pyautogui.click(center_x, center_y)\n",
    "       \n",
    "    else:\n",
    "        print(\"Best match not found lol\")\n"
   ]
  },
  {
   "cell_type": "code",
   "execution_count": 20,
   "metadata": {},
   "outputs": [],
   "source": [
    "def open_images_videos(command):\n",
    "\n",
    "    query = command\n",
    "\n",
    "    if 'images' in query:\n",
    "            # list of images related to the target image\n",
    "        image_list = ['images_button.png', 'img2.png', 'img3.png', 'img4.png']\n",
    "\n",
    "\n",
    "        #calling the function\n",
    "        clickGoogleButtons(image_list)\n",
    "\n",
    "\n",
    "\n",
    "\n",
    "    elif 'videos' in query:\n",
    "            # list of images related to the target image\n",
    "        image_list = ['vid1.png', 'vid2.png', 'vid3.png', 'vid4.png','vid5.png','vid6.png']\n",
    "    \n",
    "        #calling the function\n",
    "        clickGoogleButtons(image_list)\n"
   ]
  },
  {
   "cell_type": "code",
   "execution_count": null,
   "metadata": {},
   "outputs": [],
   "source": []
  }
 ],
 "metadata": {
  "kernelspec": {
   "display_name": "Python 3",
   "language": "python",
   "name": "python3"
  },
  "language_info": {
   "codemirror_mode": {
    "name": "ipython",
    "version": 3
   },
   "file_extension": ".py",
   "mimetype": "text/x-python",
   "name": "python",
   "nbconvert_exporter": "python",
   "pygments_lexer": "ipython3",
   "version": "3.10.10"
  },
  "orig_nbformat": 4
 },
 "nbformat": 4,
 "nbformat_minor": 2
}

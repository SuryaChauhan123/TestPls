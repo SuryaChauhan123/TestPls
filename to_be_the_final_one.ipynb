{
 "cells": [
  {
   "attachments": {},
   "cell_type": "markdown",
   "metadata": {},
   "source": [
    "## Converts speech to text\n",
    "You start giving commands after running the code, as soon as you pause, the command inputting stops"
   ]
  },
  {
   "cell_type": "code",
   "execution_count": 2,
   "metadata": {},
   "outputs": [],
   "source": [
    "def speechToText_Google():\n",
    "    import speech_recognition as sr\n",
    "    import string\n",
    "\n",
    "    # Initialize the speech recognition engine\n",
    "    r = sr.Recognizer()\n",
    "\n",
    "    # Use the microphone as source\n",
    "    with sr.Microphone() as source:\n",
    "        # Set the minimum energy threshold for speech detection\n",
    "        r.energy_threshold = 300\n",
    "        print(\"Speak something...\")\n",
    "        audio = r.listen(source, timeout=1.3,phrase_time_limit=20)\n",
    "\n",
    "    # Use Google speech recognition to convert speech to text\n",
    "    try:\n",
    "        command = r.recognize_google(audio)\n",
    "        cleaned_command = command.lower().strip().translate(str.maketrans('', '', string.punctuation))\n",
    "        # print(\"You said: \" + command)\n",
    "        \n",
    "    except sr.UnknownValueError:\n",
    "        # print(\"Sorry, I could not understand your command.\")\n",
    "        cleaned_command = 'Sorry, I could not understand your command'\n",
    "\n",
    "    print('You said :', cleaned_command)\n",
    "\n",
    "    return cleaned_command\n"
   ]
  },
  {
   "cell_type": "code",
   "execution_count": 3,
   "metadata": {},
   "outputs": [
    {
     "name": "stdout",
     "output_type": "stream",
     "text": [
      "Speak something...\n"
     ]
    },
    {
     "data": {
      "text/plain": [
       "'hello google can you hear me'"
      ]
     },
     "execution_count": 3,
     "metadata": {},
     "output_type": "execute_result"
    }
   ],
   "source": [
    "result = speechToText_Google()\n",
    "result"
   ]
  },
  {
   "attachments": {},
   "cell_type": "markdown",
   "metadata": {},
   "source": [
    "## Checks which software to open according to voice command"
   ]
  },
  {
   "cell_type": "code",
   "execution_count": 12,
   "metadata": {},
   "outputs": [],
   "source": [
    "def loading_data_and_cleaning_sofware_open():\n",
    "    from sentence_transformers import SentenceTransformer\n",
    "    import pandas as pd\n",
    "    import numpy as np\n",
    "    import nltk\n",
    "    nltk.download('stopwords')\n",
    "\n",
    "    model = SentenceTransformer('sentence-transformers/all-MiniLM-L6-v2')\n",
    "\n",
    "    data = pd.read_excel(\"software_name_training_data.xlsx\", names=[\"voice_input\", \"command\"])\n",
    "\n",
    "    stopwords = nltk.corpus.stopwords.words('english')\n",
    "    def remove_stopwords(text):\n",
    "        words = text.split()\n",
    "        without_stopwords = [word for word in words if word.casefold() not in stopwords]\n",
    "        without_stopwords = ' '.join(without_stopwords)\n",
    "        return without_stopwords\n",
    "\n",
    "    data['voice_input']= data['voice_input'].apply(lambda x:remove_stopwords(x))\n",
    "\n",
    "    #Independent feature\n",
    "    X = list(data.voice_input)\n",
    "    Y = list(data.command)\n",
    "\n",
    "    return model, Y\n",
    "\n",
    "\n",
    "## Opens sofware which it was asked for\n",
    "    \n",
    "def which_sofware_to_open(result, model, Y):\n",
    "    from sentence_transformers import util\n",
    "    import numpy as np\n",
    "\n",
    "    # Define your sentence\n",
    "    input_sentence = result\n",
    "\n",
    "    #Sentences to be compared with\n",
    "    sentences = Y\n",
    "\n",
    "    # Get the embeddings of all sentences\n",
    "    embeddings = model.encode([input_sentence] + sentences)\n",
    "\n",
    "    # Calculate cosine similarity between sentence1 and all other sentences\n",
    "    similarities = util.cos_sim(embeddings[0], embeddings[1:])\n",
    "\n",
    "    # get the index of the most similar sentence\n",
    "    most_similar_index = np.argmax(similarities) + 1\n",
    "\n",
    "    most_similar_sentence = sentences[most_similar_index]\n",
    "    most_similar_value = Y[most_similar_index]\n",
    "    # print(most_similar_sentence, most_similar_value)\n",
    "\n",
    "    return most_similar_value\n"
   ]
  },
  {
   "cell_type": "code",
   "execution_count": 4,
   "metadata": {},
   "outputs": [
    {
     "name": "stderr",
     "output_type": "stream",
     "text": [
      "C:\\Users\\Admin\\AppData\\Local\\Packages\\PythonSoftwareFoundation.Python.3.10_qbz5n2kfra8p0\\LocalCache\\local-packages\\Python310\\site-packages\\tqdm\\auto.py:22: TqdmWarning: IProgress not found. Please update jupyter and ipywidgets. See https://ipywidgets.readthedocs.io/en/stable/user_install.html\n",
      "  from .autonotebook import tqdm as notebook_tqdm\n",
      "[nltk_data] Downloading package stopwords to\n",
      "[nltk_data]     C:\\Users\\Admin\\AppData\\Roaming\\nltk_data...\n",
      "[nltk_data]   Package stopwords is already up-to-date!\n"
     ]
    }
   ],
   "source": [
    "# Loading the sentence_similarity model\n",
    "model, Y = loading_data_and_cleaning_sofware_open()"
   ]
  },
  {
   "cell_type": "code",
   "execution_count": 24,
   "metadata": {},
   "outputs": [
    {
     "name": "stdout",
     "output_type": "stream",
     "text": [
      "open brave\n"
     ]
    }
   ],
   "source": [
    "# VARIABLE\n",
    "# Calling the function for opening sofware\n",
    "software = which_sofware_to_open('open brave',model, Y)\n",
    "\n",
    "if \"open\" in software:\n",
    "    import os\n",
    "    \n",
    "    print(software)\n",
    "\n",
    "    app = software.split(' ')[-1]\n",
    "    os.system(f'start { app}')"
   ]
  },
  {
   "attachments": {},
   "cell_type": "markdown",
   "metadata": {},
   "source": [
    "## Search anything on google"
   ]
  },
  {
   "cell_type": "code",
   "execution_count": null,
   "metadata": {},
   "outputs": [],
   "source": [
    "def search_on_google():\n",
    "    from selenium import webdriver\n",
    "    from selenium.webdriver.common.keys import Keys\n",
    "    import time\n",
    "\n",
    "    ## navigate to the Google All page\n",
    "    query  = result\n",
    "    driver.get(\"https://www.\"+software+\".com/search?q=\"+query+\"&source=lmns&hl=en-US&sa=X&ved=2ahUKEwim0uf20fb9AhVA_TgGHTdaAjwQ_AUoAHoECAEQAA\")"
   ]
  },
  {
   "cell_type": "code",
   "execution_count": null,
   "metadata": {},
   "outputs": [],
   "source": []
  },
  {
   "cell_type": "code",
   "execution_count": null,
   "metadata": {},
   "outputs": [],
   "source": []
  },
  {
   "attachments": {},
   "cell_type": "markdown",
   "metadata": {},
   "source": [
    "## The whole All_IN_ONE AI-system in flow !!"
   ]
  },
  {
   "cell_type": "code",
   "execution_count": 13,
   "metadata": {},
   "outputs": [
    {
     "name": "stdout",
     "output_type": "stream",
     "text": [
      "Speak something...\n",
      "You said : open ms word\n",
      "open WINWORD\n"
     ]
    }
   ],
   "source": [
    "result = speechToText_Google()\n",
    "\n",
    "# Checking if the command is to open any software and open it\n",
    "software = which_sofware_to_open(result,model, Y)\n",
    "if \"open\" in software:\n",
    "    if \"chrome\" in software:\n",
    "    import os\n",
    "\n",
    "    print(software)\n",
    "\n",
    "    app = software.split(' ')[-1]\n",
    "    os.system(f'start { app}')\n",
    "else:\n",
    "    print(result)\n",
    "\n",
    "\n",
    "    "
   ]
  },
  {
   "cell_type": "code",
   "execution_count": 26,
   "metadata": {},
   "outputs": [],
   "source": [
    "# import re\n",
    "\n",
    "# sentence = result\n",
    "\n",
    "# match = re.search(r'open\\s+\\w+', sentence)\n",
    "\n",
    "# if match:\n",
    "#     command = match.group()\n",
    "#     print(command)\n",
    "# else:\n",
    "#     print(\"Command not found\")"
   ]
  },
  {
   "cell_type": "code",
   "execution_count": 25,
   "metadata": {},
   "outputs": [],
   "source": [
    "# import speech_recognition as sr\n",
    "# import string\n",
    "# import os\n",
    "# from email.message import EmailMessage\n",
    "# import ssl\n",
    "# import smtplib\n",
    "# import torch\n",
    "# from transformers import BertTokenizer, BertForSequenceClassification\n",
    "# import subprocess\n",
    "# import webbrowser\n",
    "\n",
    "\n",
    "# # r = sr.Recognizer()\n",
    "\n",
    "\n",
    "\n",
    "\n",
    "# def recognize_command():\n",
    "   \n",
    "#     # with sr.Microphone() as source:\n",
    "#     #     print(\"Speak now...\")\n",
    "#     #     r.adjust_for_ambient_noise(source)\n",
    "#     #     audio = r.listen(source)\n",
    "\n",
    "\n",
    "#     try:\n",
    "#         # command = r.recognize_google(audio)\n",
    "#         # command = command.lower().strip().translate(str.maketrans('', '', string.punctuation))\n",
    "#         # command = \"open lync\"\n",
    "#         command=result\n",
    "#         print(\"You said: \" + command)\n",
    "       \n",
    "#         if \"open\" in command:\n",
    "           \n",
    "\n",
    "\n",
    "#             app = command.split(' ')[-1]\n",
    "#             os.system(f'start { app}')\n",
    "           \n",
    "       \n",
    "#     except sr.UnknownValueError:\n",
    "#         print(\"Sorry, I didn't understand that.\")\n",
    "       \n",
    "\n",
    "\n",
    "# recognize_command()"
   ]
  },
  {
   "attachments": {},
   "cell_type": "markdown",
   "metadata": {},
   "source": [
    "## YT open search"
   ]
  },
  {
   "cell_type": "code",
   "execution_count": 15,
   "metadata": {},
   "outputs": [
    {
     "name": "stderr",
     "output_type": "stream",
     "text": [
      "[nltk_data] Downloading package stopwords to\n",
      "[nltk_data]     C:\\Users\\Admin\\AppData\\Roaming\\nltk_data...\n",
      "[nltk_data]   Package stopwords is already up-to-date!\n"
     ]
    }
   ],
   "source": [
    "# Once run\n",
    "from transformers import pipeline\n",
    "import webbrowser\n",
    "import nltk\n",
    "nltk.download('stopwords')\n",
    "from nltk.corpus import stopwords\n",
    "\n",
    "# Load the NLU model\n",
    "nlp = pipeline(\"question-answering\", model=\"bert-large-cased-whole-word-masking-finetuned-squad\")\n"
   ]
  },
  {
   "cell_type": "code",
   "execution_count": 59,
   "metadata": {},
   "outputs": [
    {
     "data": {
      "text/plain": [
       "True"
      ]
     },
     "execution_count": 59,
     "metadata": {},
     "output_type": "execute_result"
    }
   ],
   "source": [
    "\n",
    "# Define stopwords\n",
    "stop_words = set(stopwords.words('english'))\n",
    "stop_words.add('youtube')\n",
    "\n",
    "# Get user input\n",
    "# user_input = \"find me a tutorial on how to cook spaghetti on youtube\"\n",
    "user_input = \"could you please find me the way to do maths on youtube\"\n",
    "\n",
    "# Extract the search query from the user input\n",
    "search_query_words = user_input.split()[1:]\n",
    "search_query_words = [word for word in search_query_words if word.lower() not in stop_words]\n",
    "search_query = \"https://www.youtube.com/results?search_query=\" + \"+\".join(search_query_words)\n",
    "\n",
    "# Extract the answer from the user input using the NLU model\n",
    "answer = nlp(question=user_input, context=search_query)\n",
    "\n",
    "# Open the search query in Chrome\n",
    "webbrowser.open_new_tab(search_query)\n"
   ]
  },
  {
   "attachments": {},
   "cell_type": "markdown",
   "metadata": {},
   "source": [
    "## Search anything on google"
   ]
  },
  {
   "cell_type": "code",
   "execution_count": 16,
   "metadata": {},
   "outputs": [
    {
     "data": {
      "text/plain": [
       "True"
      ]
     },
     "execution_count": 16,
     "metadata": {},
     "output_type": "execute_result"
    }
   ],
   "source": [
    "\n",
    "# Define stopwords\n",
    "stop_words = set(stopwords.words('english'))\n",
    "stop_words.add('chrome')\n",
    "\n",
    "# Get user input\n",
    "# user_input = \"find me a tutorial on how to cook spaghetti on youtube\"\n",
    "user_input = \"find how to do back flip in 1 day on youtube\"\n",
    "\n",
    "# Extract the search query from the user input\n",
    "search_query_words = user_input.split()[1:]\n",
    "search_query_words = [word for word in search_query_words if word.lower() not in stop_words]\n",
    "search_query = \"https://www.google.com/search?q=\"+'+'.join(search_query_words)+'&source=lmns&hl=en-US&sa=X&ved=2ahUKEwim0uf20fb9AhVA_TgGHTdaAjwQ_AUoAHoECAEQAA'\n",
    "\n",
    "# Extract the answer from the user input using the NLU model\n",
    "answer = nlp(question=user_input, context=search_query)\n",
    "\n",
    "# Open the search query in Chrome\n",
    "webbrowser.open_new_tab(search_query)\n"
   ]
  },
  {
   "attachments": {},
   "cell_type": "markdown",
   "metadata": {},
   "source": [
    "## Minimize Maximize"
   ]
  },
  {
   "cell_type": "code",
   "execution_count": 51,
   "metadata": {},
   "outputs": [
    {
     "name": "stdout",
     "output_type": "stream",
     "text": [
      "Listening...\n",
      "Command: minimise maximize minimise\n",
      "Application minimized\n",
      "Command: restoredown\n",
      "Application restore Downed\n",
      "Command: restore up\n",
      "Application restore Uped\n"
     ]
    },
    {
     "ename": "KeyboardInterrupt",
     "evalue": "",
     "output_type": "error",
     "traceback": [
      "\u001b[1;31m---------------------------------------------------------------------------\u001b[0m",
      "\u001b[1;31mKeyboardInterrupt\u001b[0m                         Traceback (most recent call last)",
      "Cell \u001b[1;32mIn[51], line 32\u001b[0m\n\u001b[0;32m     29\u001b[0m \u001b[39mprint\u001b[39m(\u001b[39m\"\u001b[39m\u001b[39mListening...\u001b[39m\u001b[39m\"\u001b[39m)\n\u001b[0;32m     30\u001b[0m \u001b[39mwhile\u001b[39;00m \u001b[39mTrue\u001b[39;00m:\n\u001b[0;32m     31\u001b[0m     \u001b[39m# Listen for voice commands\u001b[39;00m\n\u001b[1;32m---> 32\u001b[0m     audio \u001b[39m=\u001b[39m r\u001b[39m.\u001b[39;49mlisten(source)\n\u001b[0;32m     35\u001b[0m     \u001b[39mtry\u001b[39;00m:\n\u001b[0;32m     36\u001b[0m         \u001b[39m# Convert voice to text\u001b[39;00m\n\u001b[0;32m     37\u001b[0m         command \u001b[39m=\u001b[39m r\u001b[39m.\u001b[39mrecognize_google(audio)\u001b[39m.\u001b[39mlower()\n",
      "File \u001b[1;32m~\\AppData\\Local\\Packages\\PythonSoftwareFoundation.Python.3.10_qbz5n2kfra8p0\\LocalCache\\local-packages\\Python310\\site-packages\\speech_recognition\\__init__.py:523\u001b[0m, in \u001b[0;36mRecognizer.listen\u001b[1;34m(self, source, timeout, phrase_time_limit, snowboy_configuration)\u001b[0m\n\u001b[0;32m    520\u001b[0m \u001b[39mif\u001b[39;00m phrase_time_limit \u001b[39mand\u001b[39;00m elapsed_time \u001b[39m-\u001b[39m phrase_start_time \u001b[39m>\u001b[39m phrase_time_limit:\n\u001b[0;32m    521\u001b[0m     \u001b[39mbreak\u001b[39;00m\n\u001b[1;32m--> 523\u001b[0m buffer \u001b[39m=\u001b[39m source\u001b[39m.\u001b[39;49mstream\u001b[39m.\u001b[39;49mread(source\u001b[39m.\u001b[39;49mCHUNK)\n\u001b[0;32m    524\u001b[0m \u001b[39mif\u001b[39;00m \u001b[39mlen\u001b[39m(buffer) \u001b[39m==\u001b[39m \u001b[39m0\u001b[39m: \u001b[39mbreak\u001b[39;00m  \u001b[39m# reached end of the stream\u001b[39;00m\n\u001b[0;32m    525\u001b[0m frames\u001b[39m.\u001b[39mappend(buffer)\n",
      "File \u001b[1;32m~\\AppData\\Local\\Packages\\PythonSoftwareFoundation.Python.3.10_qbz5n2kfra8p0\\LocalCache\\local-packages\\Python310\\site-packages\\speech_recognition\\__init__.py:199\u001b[0m, in \u001b[0;36mMicrophone.MicrophoneStream.read\u001b[1;34m(self, size)\u001b[0m\n\u001b[0;32m    198\u001b[0m \u001b[39mdef\u001b[39;00m \u001b[39mread\u001b[39m(\u001b[39mself\u001b[39m, size):\n\u001b[1;32m--> 199\u001b[0m     \u001b[39mreturn\u001b[39;00m \u001b[39mself\u001b[39;49m\u001b[39m.\u001b[39;49mpyaudio_stream\u001b[39m.\u001b[39;49mread(size, exception_on_overflow\u001b[39m=\u001b[39;49m\u001b[39mFalse\u001b[39;49;00m)\n",
      "File \u001b[1;32m~\\AppData\\Local\\Packages\\PythonSoftwareFoundation.Python.3.10_qbz5n2kfra8p0\\LocalCache\\local-packages\\Python310\\site-packages\\pyaudio.py:608\u001b[0m, in \u001b[0;36mStream.read\u001b[1;34m(self, num_frames, exception_on_overflow)\u001b[0m\n\u001b[0;32m    604\u001b[0m \u001b[39mif\u001b[39;00m \u001b[39mnot\u001b[39;00m \u001b[39mself\u001b[39m\u001b[39m.\u001b[39m_is_input:\n\u001b[0;32m    605\u001b[0m     \u001b[39mraise\u001b[39;00m \u001b[39mIOError\u001b[39;00m(\u001b[39m\"\u001b[39m\u001b[39mNot input stream\u001b[39m\u001b[39m\"\u001b[39m,\n\u001b[0;32m    606\u001b[0m                   paCanNotReadFromAnOutputOnlyStream)\n\u001b[1;32m--> 608\u001b[0m \u001b[39mreturn\u001b[39;00m pa\u001b[39m.\u001b[39;49mread_stream(\u001b[39mself\u001b[39;49m\u001b[39m.\u001b[39;49m_stream, num_frames, exception_on_overflow)\n",
      "\u001b[1;31mKeyboardInterrupt\u001b[0m: "
     ]
    }
   ],
   "source": [
    "import speech_recognition as sr\n",
    "import pyautogui\n",
    "\n",
    "\n",
    "# Initialize the speech recognition module\n",
    "r = sr.Recognizer()\n",
    "\n",
    "\n",
    "# Define the voice command keywords\n",
    "minimize_keywords = ['minimize', 'hide', 'minimise']\n",
    "maximize_keywords = ['maximize', 'expand', 'maximise']\n",
    "restoreDown_keywords = ['restore down','down','restore down']\n",
    "restoreUp_keywords = ['restore up','up','restore up']\n",
    "close_keywords = ['close', 'quit', 'exit']\n",
    "\n",
    "\n",
    "\n",
    "\n",
    "# Define the keyboard shortcuts for each action\n",
    "minimize_key = 'win+m'\n",
    "maximize_key = 'win+shift+m'\n",
    "restoreDown_key = 'win+down'\n",
    "restoreUp_key = 'win+up'\n",
    "close_key = 'alt+f4'\n",
    "\n",
    "\n",
    "# Start listening to the microphone\n",
    "with sr.Microphone() as source:\n",
    "    print(\"Listening...\")\n",
    "    while True:\n",
    "        # Listen for voice commands\n",
    "        audio = r.listen(source)\n",
    "\n",
    "\n",
    "        try:\n",
    "            # Convert voice to text\n",
    "            command = r.recognize_google(audio).lower()\n",
    "            print(f\"Command: {command}\")\n",
    "\n",
    "\n",
    "            # Check if the command is to minimize, maximize or close the application\n",
    "            if any(keyword in command for keyword in minimize_keywords):\n",
    "                pyautogui.hotkey(*minimize_key.split('+'))\n",
    "                print(\"Application minimized\")\n",
    "            elif any(keyword in command for keyword in maximize_keywords):\n",
    "                pyautogui.hotkey(*maximize_key.split('+'))\n",
    "                print(\"Application maximized\")\n",
    "            elif any(keyword in command for keyword in restoreDown_keywords):\n",
    "                pyautogui.hotkey(*restoreDown_key.split('+'))\n",
    "                print(\"Application restore Downed\")\n",
    "            elif any(keyword in command for keyword in restoreUp_keywords):\n",
    "                pyautogui.hotkey(*restoreUp_key.split('+'))\n",
    "                print(\"Application restore Uped\")\n",
    "            elif any(keyword in command for keyword in close_keywords):\n",
    "                pyautogui.hotkey(*close_key.split('+'))\n",
    "                print(\"Application closed\")\n",
    "                break  # exit the loop after closing the application\n",
    "            else:\n",
    "                print(\"Command not recognized\")\n",
    "\n",
    "\n",
    "        except sr.UnknownValueError:\n",
    "            print(\"Unable to recognize speech\")\n",
    "        except sr.RequestError as e:\n",
    "            print(f\"Request error: {e}\")\n"
   ]
  },
  {
   "cell_type": "code",
   "execution_count": null,
   "metadata": {},
   "outputs": [],
   "source": []
  }
 ],
 "metadata": {
  "kernelspec": {
   "display_name": "Python 3",
   "language": "python",
   "name": "python3"
  },
  "language_info": {
   "codemirror_mode": {
    "name": "ipython",
    "version": 3
   },
   "file_extension": ".py",
   "mimetype": "text/x-python",
   "name": "python",
   "nbconvert_exporter": "python",
   "pygments_lexer": "ipython3",
   "version": "3.10.10"
  },
  "orig_nbformat": 4
 },
 "nbformat": 4,
 "nbformat_minor": 2
}

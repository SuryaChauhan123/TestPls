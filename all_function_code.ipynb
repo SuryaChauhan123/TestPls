{
 "cells": [
  {
   "attachments": {},
   "cell_type": "markdown",
   "metadata": {},
   "source": [
    "## open a new tab in web browser"
   ]
  },
  {
   "cell_type": "code",
   "execution_count": 10,
   "metadata": {},
   "outputs": [
    {
     "name": "stdout",
     "output_type": "stream",
     "text": [
      "Say 'open new tab' to open a new tab in Google Chrome\n",
      "You said: open new tab\n"
     ]
    }
   ],
   "source": [
    "import speech_recognition as sr\n",
    "import pyautogui\n",
    "import time\n",
    "import pyttsx3\n",
    "\n",
    "# Initialize the speech recognition object\n",
    "r = sr.Recognizer()\n",
    "\n",
    "# Initialize the text-to-speech engine\n",
    "engine = pyttsx3.init()\n",
    "\n",
    "# Start listening for the voice command\n",
    "with sr.Microphone() as source:\n",
    "    print(\"Say 'open new tab' to open a new tab in Google Chrome\")\n",
    "    audio = r.listen(source)\n",
    "\n",
    "    # Use Google Speech Recognition to convert the audio to text\n",
    "    try:\n",
    "        command = r.recognize_google(audio)\n",
    "        print(\"You said: \" + command)\n",
    "\n",
    "        # Check if the user said 'open new tab'\n",
    "        if \"open new tab\" in command.lower():\n",
    "\n",
    "            # # Move the mouse to a random position on the screen to prevent the FailSafeException error\n",
    "            # pyautogui.moveTo(100, 100, duration=0.5)\n",
    "\n",
    "            # Press the Ctrl + T key combination to open a new tab\n",
    "            pyautogui.hotkey('ctrl', 't')\n",
    "\n",
    "            # Wait for the new tab to open\n",
    "            time.sleep(2)\n",
    "\n",
    "            # Speak the confirmation message using pyttsx3\n",
    "            engine.say(\"New tab opened in Google Chrome\")\n",
    "            engine.runAndWait()\n",
    "\n",
    "    except sr.UnknownValueError:\n",
    "        print(\"Google Speech Recognition could not understand audio\")\n",
    "    except sr.RequestError as e:\n",
    "        print(\"Could not request results from Google Speech Recognition service; {0}\".format(e))\n"
   ]
  },
  {
   "attachments": {},
   "cell_type": "markdown",
   "metadata": {},
   "source": [
    "## open any software"
   ]
  },
  {
   "cell_type": "code",
   "execution_count": 16,
   "metadata": {},
   "outputs": [
    {
     "name": "stdout",
     "output_type": "stream",
     "text": [
      "Speak now...\n",
      "You said: open lync\n"
     ]
    }
   ],
   "source": [
    "\n",
    "import speech_recognition as sr\n",
    "import string\n",
    "import os\n",
    "from email.message import EmailMessage\n",
    "import ssl\n",
    "import smtplib\n",
    "import torch\n",
    "from transformers import BertTokenizer, BertForSequenceClassification\n",
    "import subprocess\n",
    "import webbrowser\n",
    "\n",
    "\n",
    "r = sr.Recognizer()\n",
    "\n",
    "\n",
    "\n",
    "\n",
    "def recognize_command():\n",
    "   \n",
    "    with sr.Microphone() as source:\n",
    "        print(\"Speak now...\")\n",
    "        r.adjust_for_ambient_noise(source)\n",
    "        audio = r.listen(source)\n",
    "\n",
    "\n",
    "    try:\n",
    "        # command = r.recognize_google(audio)\n",
    "        # command = command.lower().strip().translate(str.maketrans('', '', string.punctuation))\n",
    "        command = \"open lync\"\n",
    "        print(\"You said: \" + command)\n",
    "       \n",
    "        if \"open\" in command:\n",
    "           \n",
    "\n",
    "\n",
    "            app = command.split(' ')[-1]\n",
    "            os.system(f'start { app}')\n",
    "           \n",
    "       \n",
    "    except sr.UnknownValueError:\n",
    "        print(\"Sorry, I didn't understand that.\")\n",
    "       \n",
    "\n",
    "\n",
    "recognize_command()"
   ]
  },
  {
   "cell_type": "code",
   "execution_count": null,
   "metadata": {},
   "outputs": [],
   "source": []
  },
  {
   "cell_type": "code",
   "execution_count": null,
   "metadata": {},
   "outputs": [],
   "source": []
  },
  {
   "cell_type": "code",
   "execution_count": null,
   "metadata": {},
   "outputs": [],
   "source": []
  },
  {
   "attachments": {},
   "cell_type": "markdown",
   "metadata": {},
   "source": [
    "## Open the first link"
   ]
  },
  {
   "cell_type": "code",
   "execution_count": 8,
   "metadata": {},
   "outputs": [
    {
     "name": "stdout",
     "output_type": "stream",
     "text": [
      "You said: Dog\n"
     ]
    },
    {
     "ename": "TimeoutException",
     "evalue": "Message: \nStacktrace:\nBacktrace:\n\t(No symbol) [0x00AADCE3]\n\t(No symbol) [0x00A439D1]\n\t(No symbol) [0x00954DA8]\n\t(No symbol) [0x0098019F]\n\t(No symbol) [0x009803AB]\n\t(No symbol) [0x009AEE62]\n\t(No symbol) [0x0099AF14]\n\t(No symbol) [0x009AD57C]\n\t(No symbol) [0x0099ACC6]\n\t(No symbol) [0x00976F68]\n\t(No symbol) [0x009780CD]\n\tGetHandleVerifier [0x00D23832+2506274]\n\tGetHandleVerifier [0x00D59794+2727300]\n\tGetHandleVerifier [0x00D5E36C+2746716]\n\tGetHandleVerifier [0x00B56690+617600]\n\t(No symbol) [0x00A4C712]\n\t(No symbol) [0x00A51FF8]\n\t(No symbol) [0x00A520DB]\n\t(No symbol) [0x00A5C63B]\n\tBaseThreadInitThunk [0x753000F9+25]\n\tRtlGetAppContainerNamedObjectPath [0x77157BBE+286]\n\tRtlGetAppContainerNamedObjectPath [0x77157B8E+238]\n",
     "output_type": "error",
     "traceback": [
      "\u001b[1;31m---------------------------------------------------------------------------\u001b[0m",
      "\u001b[1;31mTimeoutException\u001b[0m                          Traceback (most recent call last)",
      "Cell \u001b[1;32mIn[8], line 65\u001b[0m\n\u001b[0;32m     59\u001b[0m \u001b[39mimport\u001b[39;00m \u001b[39mpychrome\u001b[39;00m\n\u001b[0;32m     62\u001b[0m \u001b[39m# driver = webdriver.Chrome()\u001b[39;00m\n\u001b[0;32m     63\u001b[0m \n\u001b[0;32m     64\u001b[0m \u001b[39m# element = WebDriverWait(driver, 20).until(EC.visibility_of_element_located((By.CSS_SELECTOR, 'h3')))\u001b[39;00m\n\u001b[1;32m---> 65\u001b[0m element \u001b[39m=\u001b[39m WebDriverWait(driver, \u001b[39m20\u001b[39;49m)\u001b[39m.\u001b[39;49muntil(EC\u001b[39m.\u001b[39;49mvisibility_of_element_located((By\u001b[39m.\u001b[39;49mCSS_SELECTOR, \u001b[39m'\u001b[39;49m\u001b[39mh3:nth-of-type(2)\u001b[39;49m\u001b[39m'\u001b[39;49m)))\n\u001b[0;32m     66\u001b[0m element\u001b[39m.\u001b[39mclick()\n\u001b[0;32m     68\u001b[0m time\u001b[39m.\u001b[39msleep(\u001b[39m5\u001b[39m)  \u001b[39m# Wait for 5 seconds for the new page to load\u001b[39;00m\n",
      "File \u001b[1;32m~\\AppData\\Local\\Packages\\PythonSoftwareFoundation.Python.3.10_qbz5n2kfra8p0\\LocalCache\\local-packages\\Python310\\site-packages\\selenium\\webdriver\\support\\wait.py:95\u001b[0m, in \u001b[0;36mWebDriverWait.until\u001b[1;34m(self, method, message)\u001b[0m\n\u001b[0;32m     93\u001b[0m     \u001b[39mif\u001b[39;00m time\u001b[39m.\u001b[39mmonotonic() \u001b[39m>\u001b[39m end_time:\n\u001b[0;32m     94\u001b[0m         \u001b[39mbreak\u001b[39;00m\n\u001b[1;32m---> 95\u001b[0m \u001b[39mraise\u001b[39;00m TimeoutException(message, screen, stacktrace)\n",
      "\u001b[1;31mTimeoutException\u001b[0m: Message: \nStacktrace:\nBacktrace:\n\t(No symbol) [0x00AADCE3]\n\t(No symbol) [0x00A439D1]\n\t(No symbol) [0x00954DA8]\n\t(No symbol) [0x0098019F]\n\t(No symbol) [0x009803AB]\n\t(No symbol) [0x009AEE62]\n\t(No symbol) [0x0099AF14]\n\t(No symbol) [0x009AD57C]\n\t(No symbol) [0x0099ACC6]\n\t(No symbol) [0x00976F68]\n\t(No symbol) [0x009780CD]\n\tGetHandleVerifier [0x00D23832+2506274]\n\tGetHandleVerifier [0x00D59794+2727300]\n\tGetHandleVerifier [0x00D5E36C+2746716]\n\tGetHandleVerifier [0x00B56690+617600]\n\t(No symbol) [0x00A4C712]\n\t(No symbol) [0x00A51FF8]\n\t(No symbol) [0x00A520DB]\n\t(No symbol) [0x00A5C63B]\n\tBaseThreadInitThunk [0x753000F9+25]\n\tRtlGetAppContainerNamedObjectPath [0x77157BBE+286]\n\tRtlGetAppContainerNamedObjectPath [0x77157B8E+238]\n"
     ]
    }
   ],
   "source": [
    "import speech_recognition as sr\n",
    "from selenium import webdriver\n",
    "from selenium.webdriver.common.keys import Keys\n",
    "from selenium.webdriver.chrome.options import Options\n",
    "from selenium.webdriver.common.by import By\n",
    "from selenium.webdriver.support.ui import WebDriverWait\n",
    "from selenium.webdriver.support import expected_conditions as EC\n",
    "import time\n",
    "\n",
    "\n",
    "# # initialize the speech recognizer\n",
    "# r = sr.Recognizer()\n",
    "\n",
    "\n",
    "# open the web browser and go to Google search\n",
    "chrome_options = Options()\n",
    "# chrome_options.add_experimental_option(\"debuggerAddress\", \"localhost:9222\")\n",
    "chrome_options.add_argument(\"--disable-extensions\")\n",
    "driver = webdriver.Chrome(options=chrome_options)\n",
    "driver.get(\"https://www.google.com\")\n",
    "\n",
    "\n",
    "# # wait for the page to load\n",
    "driver.implicitly_wait(10)\n",
    "\n",
    "\n",
    "# # recognize the user's voice input\n",
    "# with sr.Microphone() as source:\n",
    "#     print(\"Say a search query:\")\n",
    "#     audio = r.listen(source)\n",
    "   \n",
    "\n",
    "# convert the user's voice input to text\n",
    "# query = r.recognize_google(audio)\n",
    "query = \"Dog\"\n",
    "print(f\"You said: {query}\")\n",
    "\n",
    "# find the search box and enter the query\n",
    "search_box = driver.find_element(\"name\",\"q\")\n",
    "search_box.send_keys(query)\n",
    "search_box.send_keys(Keys.RETURN)\n",
    "\n",
    "# wait for the search results to load\n",
    "# WebDriverWait(driver, 10).until(EC.presence_of_element_located((By.XPATH, \"//div[@class='r']/a\")))\n",
    "\n",
    "# # get the first search result and click it\n",
    "# search_results = driver.find_elements(\"xpath\", \"//div[@class='r']/a\")\n",
    "# search_results.click()\n",
    "    \n",
    "# Click on the first search result link\n",
    "# first_result = driver.find_element_by_css_selector(\"div.r a\")\n",
    "# first_result = driver.find_element(By.CSS_SELECTOR,\"div.r a\")\n",
    "# first_result.click()\n",
    "\n",
    "from selenium.webdriver.common.by import By\n",
    "from selenium.webdriver.support.ui import WebDriverWait\n",
    "from selenium.webdriver.support import expected_conditions as EC\n",
    "import webbrowser\n",
    "import pychrome\n",
    "\n",
    "\n",
    "# driver = webdriver.Chrome()\n",
    "\n",
    "# element = WebDriverWait(driver, 20).until(EC.visibility_of_element_located((By.CSS_SELECTOR, 'h3')))\n",
    "element = WebDriverWait(driver, 20).until(EC.visibility_of_element_located((By.CSS_SELECTOR, 'h3:nth-of-type(2)')))\n",
    "element.click()\n",
    "   \n",
    "time.sleep(5)  # Wait for 5 seconds for the new page to load\n",
    "driver.back()\n",
    "\n",
    "\n",
    "    # Find and click on the search result that contains the word 'cat'\n",
    "# search_results = driver.find_elements_by_css_selector('h3')\n",
    "search_results = WebDriverWait(driver, 20).until(EC.visibility_of_element_located((By.CSS_SELECTOR, 'h3:nth-of-type(2)')))\n",
    "for link in search_results:\n",
    "    print(link.text)\n",
    "    # if 'History' in result.text.lower():\n",
    "    #     result.find_element_by_css_selector('a').click()\n",
    "    #     break\n",
    "\n",
    "\n"
   ]
  },
  {
   "cell_type": "code",
   "execution_count": 5,
   "metadata": {},
   "outputs": [
    {
     "name": "stderr",
     "output_type": "stream",
     "text": [
      "C:\\Users\\Admin\\AppData\\Local\\Temp\\ipykernel_12172\\1847640440.py:18: DeprecationWarning: executable_path has been deprecated, please pass in a Service object\n",
      "  driver = webdriver.Chrome(executable_path=chrome_driver_path, options=options)\n"
     ]
    },
    {
     "ename": "KeyboardInterrupt",
     "evalue": "",
     "output_type": "error",
     "traceback": [
      "\u001b[1;31m---------------------------------------------------------------------------\u001b[0m",
      "\u001b[1;31mTimeoutError\u001b[0m                              Traceback (most recent call last)",
      "File \u001b[1;32mC:\\Program Files\\WindowsApps\\PythonSoftwareFoundation.Python.3.10_3.10.2800.0_x64__qbz5n2kfra8p0\\lib\\socket.py:833\u001b[0m, in \u001b[0;36mcreate_connection\u001b[1;34m(address, timeout, source_address)\u001b[0m\n\u001b[0;32m    832\u001b[0m     sock\u001b[39m.\u001b[39mbind(source_address)\n\u001b[1;32m--> 833\u001b[0m sock\u001b[39m.\u001b[39;49mconnect(sa)\n\u001b[0;32m    834\u001b[0m \u001b[39m# Break explicitly a reference cycle\u001b[39;00m\n",
      "\u001b[1;31mTimeoutError\u001b[0m: timed out",
      "\nDuring handling of the above exception, another exception occurred:\n",
      "\u001b[1;31mKeyboardInterrupt\u001b[0m                         Traceback (most recent call last)",
      "Cell \u001b[1;32mIn[5], line 18\u001b[0m\n\u001b[0;32m     15\u001b[0m options\u001b[39m.\u001b[39madd_argument(\u001b[39mf\u001b[39m\u001b[39m'\u001b[39m\u001b[39m--user-data-dir=\u001b[39m\u001b[39m{\u001b[39;00muser_data_dir\u001b[39m}\u001b[39;00m\u001b[39m'\u001b[39m)\n\u001b[0;32m     17\u001b[0m \u001b[39m# Create a new ChromeDriver instance with the specified ChromeOptions\u001b[39;00m\n\u001b[1;32m---> 18\u001b[0m driver \u001b[39m=\u001b[39m webdriver\u001b[39m.\u001b[39;49mChrome(executable_path\u001b[39m=\u001b[39;49mchrome_driver_path, options\u001b[39m=\u001b[39;49moptions)\n\u001b[0;32m     19\u001b[0m \u001b[39mprint\u001b[39m(driver\u001b[39m.\u001b[39mtitle)\n\u001b[0;32m     21\u001b[0m \u001b[39m# Now the driver instance is attached to the existing Chrome instance\u001b[39;00m\n",
      "File \u001b[1;32m~\\AppData\\Local\\Packages\\PythonSoftwareFoundation.Python.3.10_qbz5n2kfra8p0\\LocalCache\\local-packages\\Python310\\site-packages\\selenium\\webdriver\\chrome\\webdriver.py:80\u001b[0m, in \u001b[0;36mWebDriver.__init__\u001b[1;34m(self, executable_path, port, options, service_args, desired_capabilities, service_log_path, chrome_options, service, keep_alive)\u001b[0m\n\u001b[0;32m     77\u001b[0m \u001b[39mif\u001b[39;00m \u001b[39mnot\u001b[39;00m service:\n\u001b[0;32m     78\u001b[0m     service \u001b[39m=\u001b[39m Service(executable_path, port, service_args, service_log_path)\n\u001b[1;32m---> 80\u001b[0m \u001b[39msuper\u001b[39;49m()\u001b[39m.\u001b[39;49m\u001b[39m__init__\u001b[39;49m(\n\u001b[0;32m     81\u001b[0m     DesiredCapabilities\u001b[39m.\u001b[39;49mCHROME[\u001b[39m\"\u001b[39;49m\u001b[39mbrowserName\u001b[39;49m\u001b[39m\"\u001b[39;49m],\n\u001b[0;32m     82\u001b[0m     \u001b[39m\"\u001b[39;49m\u001b[39mgoog\u001b[39;49m\u001b[39m\"\u001b[39;49m,\n\u001b[0;32m     83\u001b[0m     port,\n\u001b[0;32m     84\u001b[0m     options,\n\u001b[0;32m     85\u001b[0m     service_args,\n\u001b[0;32m     86\u001b[0m     desired_capabilities,\n\u001b[0;32m     87\u001b[0m     service_log_path,\n\u001b[0;32m     88\u001b[0m     service,\n\u001b[0;32m     89\u001b[0m     keep_alive,\n\u001b[0;32m     90\u001b[0m )\n",
      "File \u001b[1;32m~\\AppData\\Local\\Packages\\PythonSoftwareFoundation.Python.3.10_qbz5n2kfra8p0\\LocalCache\\local-packages\\Python310\\site-packages\\selenium\\webdriver\\chromium\\webdriver.py:101\u001b[0m, in \u001b[0;36mChromiumDriver.__init__\u001b[1;34m(self, browser_name, vendor_prefix, port, options, service_args, desired_capabilities, service_log_path, service, keep_alive)\u001b[0m\n\u001b[0;32m     98\u001b[0m     \u001b[39mraise\u001b[39;00m \u001b[39mAttributeError\u001b[39;00m(\u001b[39m\"\u001b[39m\u001b[39mservice cannot be None\u001b[39m\u001b[39m\"\u001b[39m)\n\u001b[0;32m    100\u001b[0m \u001b[39mself\u001b[39m\u001b[39m.\u001b[39mservice \u001b[39m=\u001b[39m service\n\u001b[1;32m--> 101\u001b[0m \u001b[39mself\u001b[39;49m\u001b[39m.\u001b[39;49mservice\u001b[39m.\u001b[39;49mstart()\n\u001b[0;32m    103\u001b[0m \u001b[39mtry\u001b[39;00m:\n\u001b[0;32m    104\u001b[0m     \u001b[39msuper\u001b[39m()\u001b[39m.\u001b[39m\u001b[39m__init__\u001b[39m(\n\u001b[0;32m    105\u001b[0m         command_executor\u001b[39m=\u001b[39mChromiumRemoteConnection(\n\u001b[0;32m    106\u001b[0m             remote_server_addr\u001b[39m=\u001b[39m\u001b[39mself\u001b[39m\u001b[39m.\u001b[39mservice\u001b[39m.\u001b[39mservice_url,\n\u001b[1;32m   (...)\u001b[0m\n\u001b[0;32m    112\u001b[0m         options\u001b[39m=\u001b[39moptions,\n\u001b[0;32m    113\u001b[0m     )\n",
      "File \u001b[1;32m~\\AppData\\Local\\Packages\\PythonSoftwareFoundation.Python.3.10_qbz5n2kfra8p0\\LocalCache\\local-packages\\Python310\\site-packages\\selenium\\webdriver\\common\\service.py:105\u001b[0m, in \u001b[0;36mService.start\u001b[1;34m(self)\u001b[0m\n\u001b[0;32m    103\u001b[0m \u001b[39mwhile\u001b[39;00m \u001b[39mTrue\u001b[39;00m:\n\u001b[0;32m    104\u001b[0m     \u001b[39mself\u001b[39m\u001b[39m.\u001b[39massert_process_still_running()\n\u001b[1;32m--> 105\u001b[0m     \u001b[39mif\u001b[39;00m \u001b[39mself\u001b[39;49m\u001b[39m.\u001b[39;49mis_connectable():\n\u001b[0;32m    106\u001b[0m         \u001b[39mbreak\u001b[39;00m\n\u001b[0;32m    108\u001b[0m     count \u001b[39m+\u001b[39m\u001b[39m=\u001b[39m \u001b[39m1\u001b[39m\n",
      "File \u001b[1;32m~\\AppData\\Local\\Packages\\PythonSoftwareFoundation.Python.3.10_qbz5n2kfra8p0\\LocalCache\\local-packages\\Python310\\site-packages\\selenium\\webdriver\\common\\service.py:122\u001b[0m, in \u001b[0;36mService.is_connectable\u001b[1;34m(self)\u001b[0m\n\u001b[0;32m    119\u001b[0m \u001b[39mdef\u001b[39;00m \u001b[39mis_connectable\u001b[39m(\u001b[39mself\u001b[39m) \u001b[39m-\u001b[39m\u001b[39m>\u001b[39m \u001b[39mbool\u001b[39m:\n\u001b[0;32m    120\u001b[0m     \u001b[39m\"\"\"Establishes a socket connection to determine if the service running\u001b[39;00m\n\u001b[0;32m    121\u001b[0m \u001b[39m    on the port is accessible.\"\"\"\u001b[39;00m\n\u001b[1;32m--> 122\u001b[0m     \u001b[39mreturn\u001b[39;00m utils\u001b[39m.\u001b[39;49mis_connectable(\u001b[39mself\u001b[39;49m\u001b[39m.\u001b[39;49mport)\n",
      "File \u001b[1;32m~\\AppData\\Local\\Packages\\PythonSoftwareFoundation.Python.3.10_qbz5n2kfra8p0\\LocalCache\\local-packages\\Python310\\site-packages\\selenium\\webdriver\\common\\utils.py:102\u001b[0m, in \u001b[0;36mis_connectable\u001b[1;34m(port, host)\u001b[0m\n\u001b[0;32m    100\u001b[0m socket_ \u001b[39m=\u001b[39m \u001b[39mNone\u001b[39;00m\n\u001b[0;32m    101\u001b[0m \u001b[39mtry\u001b[39;00m:\n\u001b[1;32m--> 102\u001b[0m     socket_ \u001b[39m=\u001b[39m socket\u001b[39m.\u001b[39;49mcreate_connection((host, port), \u001b[39m1\u001b[39;49m)\n\u001b[0;32m    103\u001b[0m     result \u001b[39m=\u001b[39m \u001b[39mTrue\u001b[39;00m\n\u001b[0;32m    104\u001b[0m \u001b[39mexcept\u001b[39;00m _is_connectable_exceptions:\n",
      "File \u001b[1;32mC:\\Program Files\\WindowsApps\\PythonSoftwareFoundation.Python.3.10_3.10.2800.0_x64__qbz5n2kfra8p0\\lib\\socket.py:833\u001b[0m, in \u001b[0;36mcreate_connection\u001b[1;34m(address, timeout, source_address)\u001b[0m\n\u001b[0;32m    831\u001b[0m \u001b[39mif\u001b[39;00m source_address:\n\u001b[0;32m    832\u001b[0m     sock\u001b[39m.\u001b[39mbind(source_address)\n\u001b[1;32m--> 833\u001b[0m sock\u001b[39m.\u001b[39;49mconnect(sa)\n\u001b[0;32m    834\u001b[0m \u001b[39m# Break explicitly a reference cycle\u001b[39;00m\n\u001b[0;32m    835\u001b[0m err \u001b[39m=\u001b[39m \u001b[39mNone\u001b[39;00m\n",
      "\u001b[1;31mKeyboardInterrupt\u001b[0m: "
     ]
    }
   ],
   "source": [
    "from selenium import webdriver\n",
    "\n",
    "# Set the path to the ChromeDriver executable\n",
    "chrome_driver_path = r\"C:\\Program Files\\Google\\Chrome\\Application\\chrome.exe\"\n",
    "\n",
    "# Set the remote debugging port of the existing Chrome instance\n",
    "remote_debugging_port = 9222\n",
    "\n",
    "# Set the user data directory of the existing Chrome instance\n",
    "user_data_dir = r'C:\\Users\\Admin\\AppData\\Local\\Google\\Chrome\\User Data\\Default'\n",
    "\n",
    "# Create a ChromeOptions object and set the remote debugging and user data directory options\n",
    "options = webdriver.ChromeOptions()\n",
    "options.add_experimental_option('debuggerAddress', f'localhost:{remote_debugging_port}')\n",
    "options.add_argument(f'--user-data-dir={user_data_dir}')\n",
    "\n",
    "# Create a new ChromeDriver instance with the specified ChromeOptions\n",
    "driver = webdriver.Chrome(executable_path=chrome_driver_path, options=options)\n",
    "print(driver.title)\n",
    "\n",
    "# Now the driver instance is attached to the existing Chrome instance\n"
   ]
  },
  {
   "cell_type": "code",
   "execution_count": null,
   "metadata": {},
   "outputs": [],
   "source": []
  }
 ],
 "metadata": {
  "kernelspec": {
   "display_name": "Python 3",
   "language": "python",
   "name": "python3"
  },
  "language_info": {
   "codemirror_mode": {
    "name": "ipython",
    "version": 3
   },
   "file_extension": ".py",
   "mimetype": "text/x-python",
   "name": "python",
   "nbconvert_exporter": "python",
   "pygments_lexer": "ipython3",
   "version": "3.10.10"
  },
  "orig_nbformat": 4
 },
 "nbformat": 4,
 "nbformat_minor": 2
}

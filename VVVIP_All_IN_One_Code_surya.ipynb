{
 "cells": [
  {
   "attachments": {},
   "cell_type": "markdown",
   "metadata": {},
   "source": [
    "## Convert speech to text"
   ]
  },
  {
   "cell_type": "code",
   "execution_count": 70,
   "metadata": {},
   "outputs": [],
   "source": [
    "def speechToText_Google():\n",
    "    import speech_recognition as sr\n",
    "    import string\n",
    "\n",
    "    # Initialize the speech recognition engine\n",
    "    r = sr.Recognizer()\n",
    "\n",
    "    # Use the microphone as source\n",
    "    with sr.Microphone() as source:\n",
    "        # Set the minimum energy threshold for speech detection\n",
    "        r.energy_threshold = 300\n",
    "        print(\"Speak something...\")\n",
    "        audio = r.listen(source, timeout=1,phrase_time_limit=10)\n",
    "\n",
    "    # Use Google speech recognition to convert speech to text\n",
    "    try:\n",
    "        command = r.recognize_google(audio)\n",
    "        cleaned_command = command.lower().strip().translate(str.maketrans('', '', string.punctuation))\n",
    "        # print(\"You said: \" + command)\n",
    "        \n",
    "    except sr.UnknownValueError:\n",
    "        # print(\"Sorry, I could not understand your command.\")\n",
    "        cleaned_command = 'Sorry, I could not understand your command'\n",
    "\n",
    "    print(cleaned_command)\n",
    "    return cleaned_command\n"
   ]
  },
  {
   "cell_type": "code",
   "execution_count": 24,
   "metadata": {},
   "outputs": [
    {
     "name": "stdout",
     "output_type": "stream",
     "text": [
      "Speak something...\n"
     ]
    },
    {
     "data": {
      "text/plain": [
       "'open skype i have a meeting'"
      ]
     },
     "execution_count": 24,
     "metadata": {},
     "output_type": "execute_result"
    }
   ],
   "source": [
    "result = speechToText_Google()\n",
    "result"
   ]
  },
  {
   "cell_type": "code",
   "execution_count": 36,
   "metadata": {},
   "outputs": [
    {
     "name": "stdout",
     "output_type": "stream",
     "text": [
      "open google\n"
     ]
    }
   ],
   "source": [
    "# import re\n",
    "\n",
    "# sentence = result\n",
    "\n",
    "# match = re.search(r'open\\s+\\w+', sentence)\n",
    "\n",
    "# if match:\n",
    "#     command = match.group()\n",
    "#     print(command)\n",
    "# else:\n",
    "#     print(\"Command not found\")\n"
   ]
  },
  {
   "attachments": {},
   "cell_type": "markdown",
   "metadata": {},
   "source": [
    "## code to open all the softwares"
   ]
  },
  {
   "cell_type": "code",
   "execution_count": 25,
   "metadata": {},
   "outputs": [
    {
     "name": "stdout",
     "output_type": "stream",
     "text": [
      "open POWERPOINT open POWERPOINT\n"
     ]
    }
   ],
   "source": [
    "import pandas as pd\n",
    "import numpy as np\n",
    "import nltk\n",
    "from sentence_transformers import SentenceTransformer, util\n",
    "\n",
    "data = pd.read_excel(\"software_name_training_data.xlsx\", names=[\"voice_input\", \"command\"])\n",
    "\n",
    "def stopWordsRemoval():\n",
    "\n",
    "    stopwords = nltk.corpus.stopwords.words('english')\n",
    "\n",
    "    def remove_stopwords(text):\n",
    "        words = text.split()\n",
    "        without_stopwords = [word for word in words if word.casefold() not in stopwords]\n",
    "        without_stopwords = ' '.join(without_stopwords)\n",
    "        return without_stopwords\n",
    "\n",
    "    data['voice_input']= data['voice_input'].apply(lambda x:remove_stopwords(x))\n",
    "\n",
    "    return data\n",
    "\n",
    "#Independent feature\n",
    "X = list(data.voice_input)\n",
    "\n",
    "Y = list(data.command)\n",
    "\n",
    "model = SentenceTransformer('sentence-transformers/all-MiniLM-L6-v2')\n",
    "\n",
    "\n",
    "\n",
    "\n",
    "# Define your sentence\n",
    "input_sentence = result\n",
    "\n",
    "#Sentences to be compared with\n",
    "sentences = Y\n",
    "\n",
    "# Get the embeddings of all sentences\n",
    "embeddings = model.encode([input_sentence] + sentences)\n",
    "\n",
    "# Calculate cosine similarity between sentence1 and all other sentences\n",
    "similarities = util.cos_sim(embeddings[0], embeddings[1:])\n",
    "\n",
    "# get the index of the most similar sentence\n",
    "most_similar_index = np.argmax(similarities) + 1\n",
    "\n",
    "most_similar_sentence = sentences[most_similar_index]\n",
    "most_similar_value = Y[most_similar_index]\n",
    "print(most_similar_sentence, most_similar_value)\n",
    "\n",
    "# # Print the most similar sentence\n",
    "# print(f\"Sentence {most_similar_index} is the most similar to sentence 1.\")"
   ]
  },
  {
   "attachments": {},
   "cell_type": "markdown",
   "metadata": {},
   "source": [
    "## code to open the google and search anything on google"
   ]
  },
  {
   "cell_type": "code",
   "execution_count": 28,
   "metadata": {},
   "outputs": [],
   "source": [
    "\n",
    "\n",
    "def search_on_google():\n",
    "    from selenium import webdriver\n",
    "    from selenium.webdriver.common.keys import Keys\n",
    "    import time\n",
    "\n",
    "    # # attach to the existing Chrome browser instance\n",
    "    # driver = webdriver.Chrome()\n",
    "\n",
    "\n",
    "    # to open google if the user says to \n",
    "\n",
    "    # if \"open google\" in result:\n",
    "    #     webdriver.Chrome()\n",
    "\n",
    "    # # navigate to the Google All page\n",
    "    query  = result\n",
    "    driver.get(\"https://www.google.com/search?q=\"+query+\"&source=lmns&hl=en-US&sa=X&ved=2ahUKEwim0uf20fb9AhVA_TgGHTdaAjwQ_AUoAHoECAEQAA\")\n",
    "\n",
    "\n",
    "    # # wait for the Images tab to load\n",
    "    # time.sleep(2)\n",
    "\n",
    "    # # find the first image and click on it\n",
    "    # first_image = driver.find_element_by_xpath(\"//img[@class='rg_i']\")\n",
    "    # first_image.click()\n",
    "\n",
    "    # # wait for the image to load\n",
    "    # time.sleep(2)\n",
    "\n",
    "    # # close the browser\n",
    "    # driver.quit()\n"
   ]
  },
  {
   "attachments": {},
   "cell_type": "markdown",
   "metadata": {},
   "source": [
    "## Opening softwate-(SERIOUS!!!)"
   ]
  },
  {
   "cell_type": "code",
   "execution_count": null,
   "metadata": {},
   "outputs": [],
   "source": [
    "def if_search():\n",
    "        if \"search\" in new_command:\n",
    "        search_on_google() \n",
    "        new_command = speechToText_Google()  #voice recording automaticly starts for in case user wants to do anything further\n",
    "        if_search()"
   ]
  },
  {
   "cell_type": "code",
   "execution_count": 29,
   "metadata": {},
   "outputs": [],
   "source": [
    "if \"chrome\" in most_similar_value:\n",
    "    new_command = speechToText_Google()  #voice recording automaticly starts for in case user wants to serach something after opening chrome\n",
    "    if_search()\n",
    "\n",
    "    \n",
    "\n"
   ]
  },
  {
   "cell_type": "code",
   "execution_count": null,
   "metadata": {},
   "outputs": [],
   "source": [
    "if \"search\" in most_similar_value:\n",
    "    search_on_google()"
   ]
  },
  {
   "attachments": {},
   "cell_type": "markdown",
   "metadata": {},
   "source": [
    "## Open video and Images tab in google"
   ]
  },
  {
   "cell_type": "code",
   "execution_count": 39,
   "metadata": {},
   "outputs": [],
   "source": [
    "def clickGoogleButtons(image_list):\n",
    "    import pyautogui\n",
    "    # search for all the related images on the screen\n",
    "    matches = []\n",
    "\n",
    "\n",
    "    for image in image_list:\n",
    "        match = pyautogui.locateAllOnScreen(image, grayscale=True, confidence=0.8)\n",
    "        matches.extend(list(match))\n",
    "\n",
    "\n",
    "        # find the best match among all the locations\n",
    "    best_match = None\n",
    "    max_score = 0\n",
    "    for match in matches:\n",
    "        score = match[2]  # confidence score\n",
    "        if score > max_score:\n",
    "            best_match = match\n",
    "            max_score = score\n",
    "\n",
    "\n",
    "    # click on the center of the best match (if found)\n",
    "    if best_match is not None:\n",
    "        x, y, _, _ = best_match\n",
    "        center_x = x + (_ // 2)\n",
    "        center_y = y + (_ // 2)\n",
    "        pyautogui.click(center_x, center_y)\n",
    "       \n",
    "    else:\n",
    "        print(\"Best match not found lol\")\n"
   ]
  },
  {
   "cell_type": "code",
   "execution_count": 49,
   "metadata": {},
   "outputs": [],
   "source": [
    "import pyautogui\n",
    "\n",
    "query = 'open images'\n",
    "\n",
    "if query=='open images':\n",
    "        # list of images related to the target image\n",
    "    image_list = ['images_button.png', 'img2.png', 'img3.png', 'img4.png']\n",
    "\n",
    "    #calling the function\n",
    "    clickGoogleButtons(image_list)\n",
    "\n",
    "\n",
    "elif query == \"open videos\":\n",
    "        # list of images related to the target image\n",
    "    image_list = ['vid1.png', 'vid2.png', 'vid3.png', 'vid4.png','vid5.png','vid6.png']\n",
    "   \n",
    "    #calling the function\n",
    "    clickGoogleButtons(image_list)\n",
    "\n",
    "\n",
    "   \n"
   ]
  },
  {
   "attachments": {},
   "cell_type": "markdown",
   "metadata": {},
   "source": [
    "## Checks which software to open according to voice command\n",
    "\n"
   ]
  },
  {
   "cell_type": "code",
   "execution_count": 54,
   "metadata": {},
   "outputs": [],
   "source": [
    "def loading_data_and_cleaning_sofware_open():\n",
    "    from sentence_transformers import SentenceTransformer, util\n",
    "    import pandas as pd\n",
    "    import numpy as np\n",
    "    import nltk\n",
    "    nltk.download('stopwords')\n",
    "\n",
    "\n",
    "    model = SentenceTransformer('sentence-transformers/all-MiniLM-L6-v2')\n",
    "\n",
    "\n",
    "    data = pd.read_excel(\"software_name_training_data.xlsx\", names=[\"voice_input\", \"command\"])\n",
    "\n",
    "\n",
    "    stopwords = nltk.corpus.stopwords.words('english')\n",
    "    def remove_stopwords(text):\n",
    "        words = text.split()\n",
    "        without_stopwords = [word for word in words if word.casefold() not in stopwords]\n",
    "        without_stopwords = ' '.join(without_stopwords)\n",
    "        return without_stopwords\n",
    "\n",
    "\n",
    "    data['voice_input']= data['voice_input'].apply(lambda x:remove_stopwords(x))\n",
    "\n",
    "\n",
    "    #Independent feature\n",
    "    X = list(data.voice_input)\n",
    "    Y = list(data.command)\n",
    "\n",
    "\n",
    "    return model, Y\n",
    "\n",
    "\n",
    "\n",
    "\n",
    "## Opens sofware which it was asked for\n",
    "   \n",
    "def which_sofware_to_open(result, model, Y):\n",
    "    # Define your sentence\n",
    "    input_sentence = result\n",
    "\n",
    "\n",
    "    #Sentences to be compared with\n",
    "    sentences = Y\n",
    "\n",
    "\n",
    "    # Get the embeddings of all sentences\n",
    "    embeddings = model.encode([input_sentence] + sentences)\n",
    "\n",
    "\n",
    "    # Calculate cosine similarity between sentence1 and all other sentences\n",
    "    similarities = util.cos_sim(embeddings[0], embeddings[1:])\n",
    "\n",
    "\n",
    "    # get the index of the most similar sentence\n",
    "    most_similar_index = np.argmax(similarities) + 1\n",
    "\n",
    "\n",
    "    most_similar_sentence = sentences[most_similar_index]\n",
    "    most_similar_value = Y[most_similar_index]\n",
    "    # print(most_similar_sentence, most_similar_value)\n",
    "\n",
    "\n",
    "    return most_similar_value\n"
   ]
  },
  {
   "cell_type": "code",
   "execution_count": 55,
   "metadata": {},
   "outputs": [
    {
     "name": "stderr",
     "output_type": "stream",
     "text": [
      "[nltk_data] Downloading package stopwords to\n",
      "[nltk_data]     C:\\Users\\surya\\AppData\\Roaming\\nltk_data...\n",
      "[nltk_data]   Package stopwords is already up-to-date!\n"
     ]
    }
   ],
   "source": [
    "# Calling the function for opening sofware\n",
    "model, Y = loading_data_and_cleaning_sofware_open()"
   ]
  },
  {
   "cell_type": "code",
   "execution_count": 68,
   "metadata": {},
   "outputs": [
    {
     "name": "stdout",
     "output_type": "stream",
     "text": [
      "open brave\n"
     ]
    }
   ],
   "source": [
    "# VARIABLE\n",
    "# Calling the function for opening sofware\n",
    "software = which_sofware_to_open('open brave',model, Y)\n",
    "\n",
    "\n",
    "if \"open\" in software:\n",
    "    import os\n",
    "   \n",
    "    print(software)\n",
    "\n",
    "\n",
    "    app = software.split(' ')[-1]\n",
    "    os.system(f'start { app}')"
   ]
  },
  {
   "cell_type": "code",
   "execution_count": null,
   "metadata": {},
   "outputs": [],
   "source": []
  },
  {
   "cell_type": "code",
   "execution_count": null,
   "metadata": {},
   "outputs": [],
   "source": []
  },
  {
   "attachments": {},
   "cell_type": "markdown",
   "metadata": {},
   "source": [
    "## FINAL FLOW!!"
   ]
  },
  {
   "cell_type": "code",
   "execution_count": 72,
   "metadata": {},
   "outputs": [
    {
     "name": "stdout",
     "output_type": "stream",
     "text": [
      "Speak something...\n",
      "can you open the application brave for me\n",
      "open brave\n"
     ]
    }
   ],
   "source": [
    "result = speechToText_Google()\n",
    "\n",
    "\n",
    "# Checking if the command is to open any software and open it\n",
    "software = which_sofware_to_open(result,model, Y)\n",
    "if \"open\" in software:\n",
    "    import os\n",
    "   \n",
    "    print(software)\n",
    "\n",
    "\n",
    "    app = software.split(' ')[-1]\n",
    "    os.system(f'start { app}')\n",
    "else:\n",
    "    print(result)\n",
    "\n"
   ]
  },
  {
   "cell_type": "code",
   "execution_count": null,
   "metadata": {},
   "outputs": [],
   "source": []
  }
 ],
 "metadata": {
  "kernelspec": {
   "display_name": "Python 3",
   "language": "python",
   "name": "python3"
  },
  "language_info": {
   "codemirror_mode": {
    "name": "ipython",
    "version": 3
   },
   "file_extension": ".py",
   "mimetype": "text/x-python",
   "name": "python",
   "nbconvert_exporter": "python",
   "pygments_lexer": "ipython3",
   "version": "3.10.10"
  },
  "orig_nbformat": 4,
  "vscode": {
   "interpreter": {
    "hash": "fbf149454b7eb8085c72eafb20168a5461a1e4ee27ec24fc5d1ffdd6f11e6282"
   }
  }
 },
 "nbformat": 4,
 "nbformat_minor": 2
}

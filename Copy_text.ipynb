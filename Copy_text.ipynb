{
 "cells": [
  {
   "cell_type": "code",
   "execution_count": 11,
   "metadata": {},
   "outputs": [
    {
     "name": "stderr",
     "output_type": "stream",
     "text": [
      "CUDA not available - defaulting to CPU. Note: This module is much faster with a GPU.\n"
     ]
    }
   ],
   "source": [
    "import pyautogui\n",
    "import easyocr\n",
    "import numpy as np\n",
    "import time\n",
    "from PIL import Image\n",
    "\n",
    "# Initialize the OCR model\n",
    "reader = easyocr.Reader(['en'])\n"
   ]
  },
  {
   "cell_type": "code",
   "execution_count": 68,
   "metadata": {},
   "outputs": [
    {
     "name": "stdout",
     "output_type": "stream",
     "text": [
      "\"Add to Cart\" text found at (933, 305, 1019, 323)\n",
      "Center coordinate: (1442, 466)\n",
      "clicked\n"
     ]
    }
   ],
   "source": [
    "time.sleep(1)\n",
    "# Define the coordinates of the region to capture\n",
    "# x, y, width, height = 0, 365, 1366, 365\n",
    "\n",
    "screenshot = pyautogui.screenshot()\n",
    "\n",
    "# Capture the screenshot of the region\n",
    "# screenshot = pyautogui.screenshot(region=(x, y, width, height))\n",
    "\n",
    "# Convert the screenshot to grayscale and then to a numpy array\n",
    "screenshot_gray = screenshot.convert('L')\n",
    "# screenshot_np = np.array(screenshot_gray)\n",
    "\n",
    "# Save the screenshot to a file\n",
    "screenshot_gray.save('screenshot.png')\n",
    "\n",
    "\n",
    "# # Read the screenshot bytes from a file\n",
    "# with open('screenshot.png', 'rb') as f:\n",
    "#     screenshot_bytes = f.read()\n",
    "\n",
    "\n",
    "# Perform OCR on the screenshot bytes\n",
    "results = reader.readtext(screenshot_bytes)\n",
    "\n",
    "# # Extract the text from the screenshot using OCR\n",
    "# results = reader.readtext(screenshot_np)\n",
    "\n",
    "pyautogui.FAILSAFE = False\n",
    "\n",
    "# # Print the extracted text\n",
    "# for result in results:\n",
    "#     print(result[1])\n",
    "\n",
    "# Check if the \"Add to Cart\" text is found in the recognized text\n",
    "for r in results:\n",
    "    if 'add t' in r[1].lower():\n",
    "        # If the \"Add to Cart\" text is found, locate its position on the screen\n",
    "        bbox = r[0]\n",
    "        add_to_cart_location = (bbox[0][0], bbox[0][1], bbox[2][0], bbox[2][1])\n",
    "        print(f'\"Add to Cart\" text found at {add_to_cart_location}')\n",
    "\n",
    "        # Get the center coordinate of the \"Add to Cart\" text\n",
    "        x, y = pyautogui.center(add_to_cart_location)\n",
    "        print(f'Center coordinate: ({x}, {y})')\n",
    "\n",
    "        # pyautogui.moveTo(bbox[0][0], bbox[0][1]+365,duration=0.1)\n",
    "        pyautogui.moveTo(bbox[0][0], bbox[0][1],duration=0.1)\n",
    "        # pyautogui.click(bbox[0][0], bbox[0][1]+365)\n",
    "        pyautogui.click(bbox[2][0], bbox[2][1])\n",
    "        print('clicked')\n",
    "        break\n",
    "else:\n",
    "    print('\"Add to Cart\" text not found in the recognized text')\n",
    "\n"
   ]
  },
  {
   "cell_type": "code",
   "execution_count": 5,
   "metadata": {},
   "outputs": [
    {
     "name": "stderr",
     "output_type": "stream",
     "text": [
      "CUDA not available - defaulting to CPU. Note: This module is much faster with a GPU.\n"
     ]
    }
   ],
   "source": []
  },
  {
   "cell_type": "code",
   "execution_count": 58,
   "metadata": {},
   "outputs": [
    {
     "name": "stdout",
     "output_type": "stream",
     "text": [
      "LEGQ\n",
      "Msies\n",
      "LEGO Creator 3 in 1 Adorable Dogs Set\n",
      "31137 with Dachshund, Pug, Poodle\n",
      "Figures, Animal Building Toy for Kids ages\n",
      "7 and Up; Gift for\n",
      "Lovers; Easter Gift\n",
      "Idea\n",
      "33ttt\n",
      "5.0) Lraviar\n",
      "S29.97\n",
      "Price when purchased online\n",
      "Add to cart\n",
      "Dog\n",
      "\"Add to Cart\" text found at (933, 305, 1019, 323)\n",
      "Center coordinate: (1442, 466)\n",
      "clicked\n"
     ]
    }
   ],
   "source": [
    "\n",
    "# Extract the text from the screenshot using OCR\n",
    "results = reader.readtext(screenshot_np)\n",
    "\n",
    "pyautogui.FAILSAFE = False\n",
    "\n",
    "# Print the extracted text\n",
    "for result in results:\n",
    "    print(result[1])\n",
    "\n",
    "# Check if the \"Add to Cart\" text is found in the recognized text\n",
    "for r in results:\n",
    "    if 'add' in r[1].lower():\n",
    "        # If the \"Add to Cart\" text is found, locate its position on the screen\n",
    "        bbox = r[0]\n",
    "        add_to_cart_location = (bbox[0][0], bbox[0][1], bbox[2][0], bbox[2][1])\n",
    "        print(f'\"Add to Cart\" text found at {add_to_cart_location}')\n",
    "\n",
    "        # Get the center coordinate of the \"Add to Cart\" text\n",
    "        x, y = pyautogui.center(add_to_cart_location)\n",
    "        print(f'Center coordinate: ({x}, {y})')\n",
    "        pyautogui.moveTo(bbox[0][0], bbox[0][1],duration=0.1)\n",
    "        pyautogui.click(bbox[0][0], bbox[0][1])\n",
    "        print('clicked')\n",
    "        break\n",
    "else:\n",
    "    print('\"Add to Cart\" text not found in the recognized text')\n",
    "\n"
   ]
  },
  {
   "cell_type": "code",
   "execution_count": 18,
   "metadata": {},
   "outputs": [
    {
     "name": "stdout",
     "output_type": "stream",
     "text": [
      ";alksdjflskdjflsjf;lakjdf;lkasjdf;lkasjdf\n"
     ]
    }
   ],
   "source": [
    "pyautogui.moveTo(1798, 806,duration=0.1)\n",
    "pyautogui.click(1175, 533)\n",
    "print(\";alksdjflskdjflsjf;lakjdf;lkasjdf;lkasjdf\")"
   ]
  },
  {
   "cell_type": "code",
   "execution_count": 5,
   "metadata": {},
   "outputs": [
    {
     "name": "stdout",
     "output_type": "stream",
     "text": [
      "[([[67, 9], [121, 9], [121, 23], [67, 23]], 'New chat', 0.7267338779044039), ([[199, 7], [299, 7], [299, 23], [199, 23]], 'clouccicQl_Visua', 0.41340860491433684), ([[331, 9], [431, 9], [431, 23], [331, 23]], 'facebookidetr-res', 0.7380223293329964), ([[465, 9], [559, 9], [559, 23], [465, 23]], 'nielsrflaycutlmvz-', 0.5499255174210405), ([[598, 12], [646, 12], [646, 20], [598, 20]], 'common', 0.7615371171532676), ([[647, 9], [695, 9], [695, 23], [647, 23]], 'stuff@b', 0.35561689338615626), ([[731, 9], [829, 9], [829, 25], [731, 25]], 'visual cnatgptiFyI', 0.3355846292307305), ([[843, 7], [949, 7], [949, 23], [843, 23]], 'M [GitHub] Please', 0.6964848535887046), ([[996, 6], [1095, 6], [1095, 25], [996, 25]], 'SuryaChauhan12?', 0.8822541159608439), ([[291, 41], [429, 41], [429, 57], [291, 57]], 'chat openai com/chat', 0.8547416730566235), ([[1293, 41], [1321, 41], [1321, 55], [1293, 55]], 'VPN', 0.9989632156446591), ([[47, 91], [111, 91], [111, 107], [47, 107]], 'New chat', 0.9999928350251209), ([[493, 91], [575, 91], [575, 109], [493, 109]], '# If there', 0.9319461526075611), ([[579, 95], [605, 95], [605, 107], [579, 107]], 'are', 0.9999620772373462), ([[633, 93], [745, 93], [745, 107], [633, 107]], 'Chrome windows', 0.743762957054315), ([[755, 93], [791, 93], [791, 107], [755, 107]], 'exit', 0.999998927116394), ([[795, 93], [875, 93], [875, 109], [795, 109]], 'the script', 0.9747658103201907), ([[517, 117], [543, 117], [543, 131], [517, 131]], 'not', 0.9999361990198957), ([[549, 117], [659, 117], [659, 131], [549, 131]], 'chrome_ windows', 0.5997879776872368), ([[525, 141], [651, 141], [651, 157], [525, 157]], 'print (\"No Chrome', 0.762847131377901), ([[655, 139], [759, 139], [759, 155], [655, 155]], 'Windows found', 0.7083107151808226), ([[47, 149], [109, 149], [109, 163], [47, 163]], 'New chat', 0.9923587712813278), ([[525, 165], [573, 165], [573, 181], [525, 181]], 'exit()', 0.9929341132855359), ([[53, 201], [237, 201], [237, 217], [53, 217]], 'Extracting Command from Se', 0.8956831680076508), ([[493, 213], [575, 213], [575, 229], [493, 229]], '# Activate', 0.8815513572832604), ([[579, 211], [651, 211], [651, 227], [579, 227]], 'the first', 0.9912042782007444), ([[655, 213], [705, 213], [705, 227], [655, 227]], 'Chrome', 0.841056590795548), ([[709, 213], [783, 213], [783, 227], [709, 227]], 'window in', 0.6570928660564994), ([[787, 211], [853, 211], [853, 227], [787, 227]], 'the list', 0.9746556897512804), ([[495, 237], [711, 237], [711, 255], [495, 255]], 'chrome_windows[0].activate()', 0.6795336030917747), ([[46, 249], [201, 249], [201, 270], [46, 270]], 'Image similarity models:', 0.947417536045353), ([[493, 285], [545, 285], [545, 301], [493, 301]], '# Take', 0.9998566734098796), ([[563, 285], [667, 285], [667, 301], [563, 301]], 'screenshot of', 0.9596835885875861), ([[671, 285], [751, 285], [751, 301], [671, 301]], 'the active', 0.9999516713989777), ([[755, 285], [807, 285], [807, 299], [755, 299]], 'windou', 0.44793473358335334), ([[47, 305], [219, 305], [219, 321], [47, 321]], 'Chrome image automation:', 0.8243290826645151), ([[492, 308], [575, 308], [575, 325], [492, 325]], 'screenshot', 0.9998818526454629), ([[595, 309], [765, 309], [765, 327], [595, 327]], 'pyautogui.screenshot()', 0.8931031749957675), ([[47, 357], [177, 357], [177, 373], [47, 373]], 'Object Detection for', 0.7881371428438763), ([[176, 355], [239, 355], [239, 376], [176, 376]], 'Webpage', 0.9795598191955448), ([[509, 357], [659, 357], [659, 373], [509, 373]], 'Save the screenshot', 0.861871649323461), ([[701, 357], [737, 357], [737, 371], [701, 371]], 'file', 0.9998974800109863), ([[492, 380], [737, 380], [737, 399], [492, 399]], \"screenshot- save( ' screenshot-png\", 0.526057033868755), ([[47, 409], [217, 409], [217, 425], [47, 425]], 'Python Screen Recognition', 0.8889873589538603), ([[47, 461], [231, 461], [231, 477], [47, 477]], 'Python database cursor code', 0.8918863327812395), ([[479, 457], [631, 457], [631, 477], [479, 477]], 'In this modified code', 0.6046258660715572), ([[635, 459], [739, 459], [739, 479], [635, 479]], 'we import the', 0.6983281213027971), ([[747, 461], [781, 461], [781, 477], [747, 477]], 'time', 0.9999881982803345), ([[789, 459], [933, 459], [933, 477], [789, 477]], 'module and use the', 0.8357146379282895), ([[940, 456], [1124, 456], [1124, 480], [940, 480]], 'sleep() ` function to wait', 0.9060356763618422), ([[476, 483], [1128, 483], [1128, 508], [476, 508]], 'for 5 seconds before running the rest of the code: After the delay; we continue with the rest', 0.8096149101579627), ([[476, 512], [710, 512], [710, 536], [476, 536]], 'of the code as before to capture', 0.5065759298119725), ([[723, 515], [1017, 515], [1017, 533], [723, 533]], 'screenshot of the active Chrome window:', 0.8885083807181405), ([[47, 536], [170, 536], [170, 553], [47, 553]], 'Clear conversations', 0.9999230378655529), ([[47, 585], [151, 585], [151, 603], [47, 603]], 'Upgrade to Plus', 0.9059254850040122), ([[205, 587], [239, 587], [239, 601], [205, 601]], 'NEW', 0.9992724809416369), ([[47, 633], [119, 633], [119, 649], [47, 649]], 'Dark mode', 0.8202742456871847), ([[757, 631], [891, 631], [891, 647], [757, 647]], 'Regenerate response', 0.9909246780348677), ([[47, 679], [147, 679], [147, 699], [47, 699]], 'Updates & FAQ', 0.884374974388958), ([[45, 727], [99, 727], [99, 747], [45, 747]], 'Log out', 0.9998697828899844), ([[405, 727], [709, 727], [709, 745], [405, 745]], 'ChatGPI Mar14 Version: Free Research Preview Our gcal', 0.4910092232916985), ([[723, 729], [1221, 729], [1221, 743], [723, 743]], 'to make A| systems more natural and safe t0 interact witn Your feecoackwill help us imprcve;', 0.29014133934252856)]\n"
     ]
    }
   ],
   "source": [
    "print(results)"
   ]
  },
  {
   "cell_type": "code",
   "execution_count": 6,
   "metadata": {},
   "outputs": [
    {
     "name": "stdout",
     "output_type": "stream",
     "text": [
      "No Chrome windows found\n"
     ]
    },
    {
     "ename": "IndexError",
     "evalue": "list index out of range",
     "output_type": "error",
     "traceback": [
      "\u001b[1;31m---------------------------------------------------------------------------\u001b[0m",
      "\u001b[1;31mIndexError\u001b[0m                                Traceback (most recent call last)",
      "Cell \u001b[1;32mIn[6], line 16\u001b[0m\n\u001b[0;32m     13\u001b[0m     exit()\n\u001b[0;32m     15\u001b[0m \u001b[39m# Activate the first Chrome window in the list\u001b[39;00m\n\u001b[1;32m---> 16\u001b[0m chrome_windows[\u001b[39m0\u001b[39;49m]\u001b[39m.\u001b[39mactivate()\n\u001b[0;32m     18\u001b[0m \u001b[39m# Take a screenshot of the active window\u001b[39;00m\n\u001b[0;32m     19\u001b[0m screenshot \u001b[39m=\u001b[39m pyautogui\u001b[39m.\u001b[39mscreenshot()\n",
      "\u001b[1;31mIndexError\u001b[0m: list index out of range"
     ]
    },
    {
     "ename": "",
     "evalue": "",
     "output_type": "error",
     "traceback": [
      "\u001b[1;31mThe Kernel crashed while executing code in the the current cell or a previous cell. Please review the code in the cell(s) to identify a possible cause of the failure. Click <a href='https://aka.ms/vscodeJupyterKernelCrash'>here</a> for more info. View Jupyter <a href='command:jupyter.viewOutput'>log</a> for further details."
     ]
    }
   ],
   "source": [
    "import time\n",
    "import pyautogui\n",
    "\n",
    "# Get a list of windows that contain the word \"Chrome\" in their title\n",
    "chrome_windows = pyautogui.getWindowsWithTitle(\"Chrome\")\n",
    "\n",
    "# Wait for 5 seconds\n",
    "time.sleep(5)\n",
    "\n",
    "# If there are no Chrome windows, exit the script\n",
    "if not chrome_windows:\n",
    "    print(\"No Chrome windows found\")\n",
    "    exit()\n",
    "\n",
    "# Activate the first Chrome window in the list\n",
    "chrome_windows[0].activate()\n",
    "\n",
    "# Take a screenshot of the active window\n",
    "screenshot = pyautogui.screenshot()\n",
    "\n",
    "# Save the screenshot to a file\n",
    "screenshot.save('screenshot.png')\n"
   ]
  },
  {
   "cell_type": "code",
   "execution_count": 5,
   "metadata": {},
   "outputs": [
    {
     "ename": "PyGetWindowException",
     "evalue": "Error code from Windows: 0 - The operation completed successfully.",
     "output_type": "error",
     "traceback": [
      "\u001b[1;31m---------------------------------------------------------------------------\u001b[0m",
      "\u001b[1;31mPyGetWindowException\u001b[0m                      Traceback (most recent call last)",
      "Cell \u001b[1;32mIn[5], line 11\u001b[0m\n\u001b[0;32m      8\u001b[0m     exit()\n\u001b[0;32m     10\u001b[0m \u001b[39m# Activate the first Chrome window in the list\u001b[39;00m\n\u001b[1;32m---> 11\u001b[0m chrome_windows[\u001b[39m0\u001b[39;49m]\u001b[39m.\u001b[39;49mactivate()\n",
      "File \u001b[1;32m~\\AppData\\Local\\Packages\\PythonSoftwareFoundation.Python.3.10_qbz5n2kfra8p0\\LocalCache\\local-packages\\Python310\\site-packages\\pygetwindow\\_pygetwindow_win.py:246\u001b[0m, in \u001b[0;36mWin32Window.activate\u001b[1;34m(self)\u001b[0m\n\u001b[0;32m    244\u001b[0m result \u001b[39m=\u001b[39m ctypes\u001b[39m.\u001b[39mwindll\u001b[39m.\u001b[39muser32\u001b[39m.\u001b[39mSetForegroundWindow(\u001b[39mself\u001b[39m\u001b[39m.\u001b[39m_hWnd)\n\u001b[0;32m    245\u001b[0m \u001b[39mif\u001b[39;00m result \u001b[39m==\u001b[39m \u001b[39m0\u001b[39m:\n\u001b[1;32m--> 246\u001b[0m     _raiseWithLastError()\n",
      "File \u001b[1;32m~\\AppData\\Local\\Packages\\PythonSoftwareFoundation.Python.3.10_qbz5n2kfra8p0\\LocalCache\\local-packages\\Python310\\site-packages\\pygetwindow\\_pygetwindow_win.py:99\u001b[0m, in \u001b[0;36m_raiseWithLastError\u001b[1;34m()\u001b[0m\n\u001b[0;32m     96\u001b[0m \u001b[39m\"\"\"A helper function that raises PyGetWindowException using the error\u001b[39;00m\n\u001b[0;32m     97\u001b[0m \u001b[39minformation from GetLastError() and FormatMessage().\"\"\"\u001b[39;00m\n\u001b[0;32m     98\u001b[0m errorCode \u001b[39m=\u001b[39m ctypes\u001b[39m.\u001b[39mwindll\u001b[39m.\u001b[39mkernel32\u001b[39m.\u001b[39mGetLastError()\n\u001b[1;32m---> 99\u001b[0m \u001b[39mraise\u001b[39;00m PyGetWindowException(\u001b[39m'\u001b[39m\u001b[39mError code from Windows: \u001b[39m\u001b[39m%s\u001b[39;00m\u001b[39m - \u001b[39m\u001b[39m%s\u001b[39;00m\u001b[39m'\u001b[39m \u001b[39m%\u001b[39m (errorCode, _formatMessage(errorCode)))\n",
      "\u001b[1;31mPyGetWindowException\u001b[0m: Error code from Windows: 0 - The operation completed successfully."
     ]
    }
   ],
   "source": [
    "import pyautogui\n",
    "# Get a list of windows that contain the word \"Chrome\" in their title\n",
    "chrome_windows = pyautogui.getWindowsWithTitle(\"Chrome\")\n",
    "\n",
    "# If there are no Chrome windows, exit the script\n",
    "if not chrome_windows:\n",
    "    print(\"No Chrome windows found\")\n",
    "    exit()\n",
    "\n",
    "# Activate the first Chrome window in the list\n",
    "chrome_windows[0].activate()"
   ]
  },
  {
   "cell_type": "code",
   "execution_count": null,
   "metadata": {},
   "outputs": [],
   "source": [
    "import win32com.client\n",
    "\n",
    "# Create an instance of Internet Explorer\n",
    "ie = win32com.client.Dispatch(\"InternetExplorer.Application\")\n",
    "\n",
    "# Navigate to a webpage\n",
    "ie.Navigate(\"https://www.example.com/\")\n",
    "\n",
    "# Wait for the page to load\n",
    "while ie.Busy:\n",
    "    pass\n",
    "\n",
    "# Get the current document of the webpage\n",
    "doc = ie.Document\n",
    "\n",
    "# Get the title of the webpage\n",
    "title = doc.title\n",
    "\n",
    "# Print the title\n",
    "print(title)\n",
    "\n",
    "# Close Internet Explorer\n",
    "ie.Quit()\n"
   ]
  },
  {
   "cell_type": "code",
   "execution_count": null,
   "metadata": {},
   "outputs": [],
   "source": []
  },
  {
   "cell_type": "code",
   "execution_count": null,
   "metadata": {},
   "outputs": [],
   "source": []
  },
  {
   "cell_type": "code",
   "execution_count": null,
   "metadata": {},
   "outputs": [],
   "source": [
    "import easyocr\n",
    "from PIL import Image\n",
    "import os\n"
   ]
  }
 ],
 "metadata": {
  "kernelspec": {
   "display_name": "Python 3",
   "language": "python",
   "name": "python3"
  },
  "language_info": {
   "codemirror_mode": {
    "name": "ipython",
    "version": 3
   },
   "file_extension": ".py",
   "mimetype": "text/x-python",
   "name": "python",
   "nbconvert_exporter": "python",
   "pygments_lexer": "ipython3",
   "version": "3.10.10"
  },
  "orig_nbformat": 4
 },
 "nbformat": 4,
 "nbformat_minor": 2
}
